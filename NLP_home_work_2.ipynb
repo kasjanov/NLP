{
 "cells": [
  {
   "cell_type": "code",
   "execution_count": 205,
   "id": "e76fa142",
   "metadata": {},
   "outputs": [],
   "source": [
    "import emoji\n",
    "import nltk\n",
    "import numpy as np\n",
    "import os\n",
    "import pandas as pd\n",
    "import pickle as pk\n",
    "import re\n",
    "import string\n",
    "import time\n",
    "import torch\n",
    "import torch.nn as nn\n",
    "import torch.nn.functional as F\n",
    "import torchvision\n",
    "\n",
    "\n",
    "from autocorrect import Speller\n",
    "from functools import lru_cache\n",
    "from matplotlib import pyplot as plt\n",
    "from collections import Counter\n",
    "from nltk import collocations \n",
    "from nltk import ngrams\n",
    "from nltk.corpus import stopwords\n",
    "from nltk.probability import FreqDist\n",
    "from nltk.stem.porter import PorterStemmer as ps\n",
    "from nltk.stem import WordNetLemmatizer as lem\n",
    "from nltk.tokenize import word_tokenize, wordpunct_tokenize, sent_tokenize\n",
    "from pymorphy2 import MorphAnalyzer\n",
    "from sklearn.feature_extraction.text import CountVectorizer, TfidfVectorizer, \\\n",
    "                                            HashingVectorizer, ENGLISH_STOP_WORDS\n",
    "from sklearn.feature_selection import RFE, SelectKBest, chi2\n",
    "from sklearn.linear_model import LogisticRegression \n",
    "from sklearn.model_selection import train_test_split\n",
    "from sklearn.metrics import *\n",
    "from sklearn.model_selection import train_test_split\n",
    "from sklearn.pipeline import Pipeline\n",
    "from sklearn.utils import resample\n",
    "from stop_words import get_stop_words\n",
    "from string import punctuation\n",
    "from textblob import TextBlob\n",
    "from torch.utils.data import DataLoader, Dataset\n",
    "from tqdm import tqdm\n",
    "\n",
    "%matplotlib inline"
   ]
  },
  {
   "cell_type": "code",
   "execution_count": 99,
   "id": "fcd8e00f",
   "metadata": {},
   "outputs": [],
   "source": [
    "import warnings\n",
    "warnings.filterwarnings(\"ignore\")"
   ]
  },
  {
   "cell_type": "code",
   "execution_count": 100,
   "id": "429514c2",
   "metadata": {},
   "outputs": [
    {
     "name": "stderr",
     "output_type": "stream",
     "text": [
      "[nltk_data] Downloading package stopwords to\n",
      "[nltk_data]     C:\\Users\\xiaomi\\AppData\\Roaming\\nltk_data...\n",
      "[nltk_data]   Package stopwords is already up-to-date!\n",
      "[nltk_data] Downloading package genesis to\n",
      "[nltk_data]     C:\\Users\\xiaomi\\AppData\\Roaming\\nltk_data...\n",
      "[nltk_data]   Package genesis is already up-to-date!\n",
      "[nltk_data] Downloading package punkt to\n",
      "[nltk_data]     C:\\Users\\xiaomi\\AppData\\Roaming\\nltk_data...\n",
      "[nltk_data]   Package punkt is already up-to-date!\n"
     ]
    }
   ],
   "source": [
    "nltk.download('stopwords')\n",
    "nltk.download('genesis')\n",
    "nltk.download('punkt')\n",
    "noise = stopwords.words('russian') + list(punctuation)\n",
    "punkts = set(string.punctuation)\n",
    "morph_analyz = MorphAnalyzer()"
   ]
  },
  {
   "cell_type": "code",
   "execution_count": 101,
   "id": "19177a25",
   "metadata": {},
   "outputs": [],
   "source": [
    "re_url = re.compile('https?://\\S+|www\\.\\S+')\n",
    "ABC = 'abcdefghijklmnopqrstuvwxyzABCDEFGHIJKLMNOPQRSTUVWXYZ'\n",
    "ru_ABC ='абвгдеёжзийклмнопрстуфхцчшщъыьэюяАБВГДЕЁЖЗИЙКЛМНОПРСТУФХЦЧШЩЪЫЬЭЮЯ'\n",
    "denial = ['not', 'cannot', 'doesn',  \"wasn't\", 'nor', 'couldn', 'weren', \n",
    "          \"won't\", \"doesn't\", 'needn', \"isn't\", 'against', \"couldn't\", \n",
    "          'aren', 'isn', 'hadn', 'wouldn', \"mightn't\", \"mustn't\", \"can't\", \n",
    "          \"wouldn't\", 'cant', 'didn', \"shouldn't\",  \"don't\", \"didn't\", \n",
    "          \"hadn't\", \"needn't\", 'shouldn', 'hasnt', \"weren't\", 'no', \"aren't\", \n",
    "          \"hasn't\", \"haven't\", 'нельзя']\n",
    "stopwords_english = list(set(get_stop_words(\"en\") + \n",
    "                             stopwords.words('english') +\n",
    "                             list(ENGLISH_STOP_WORDS) +\n",
    "                             ['user']).difference(denial))\n",
    "stopwords_russian = list(set(get_stop_words(\"ru\") + \n",
    "                             stopwords.words('russian') +\n",
    "                             ['а','у', 'о', '☕', '♡','♥', 'б', 'аж', 'л', 'ха', 'х'\n",
    "                              '❤', '❤️','❤️', '❤️', '�','✌️', 'd', '❤',\n",
    "                              'dd', 'p' 'rt', 'щ', 'з', 'эй', 'ибо', '❄️']).difference(denial))\n",
    "\n",
    "emoji_pattern = \\\n",
    "re.compile(\"[\" \n",
    "           u\"\\U0001F600-\\U0001F64F\"  # emoticons\n",
    "           u\"\\U0001F300-\\U0001F5FF\"  # symbols & pictographs\n",
    "           u\"\\U0001F680-\\U0001F6FF\"  # transport & map symbols\n",
    "           u\"\\U0001F1E0-\\U0001F1FF\"  # flags (iOS)\n",
    "           u\"\\U00002500-\\U00002BEF\"  # chinese char\n",
    "           u\"\\U0001F191-\\U0001F19A\"\n",
    "           u\"\\U0001F232-\\U0001F236\" u\"\\U0001F238-\\U0001F23A\" u\"\\U0001F250-\\U0001F251\"\n",
    "           u\"\\U0001F300-\\U0001F30C\" u\"\\U0001F30D-\\U0001F30E\" u\"\\U0001F313-\\U0001F315\"\n",
    "           u\"\\U0001F316-\\U0001F318\" u\"\\U0001F31D-\\U0001F31E\" u\"\\U0001F31F-\\U0001F320\"\n",
    "           u\"\\U0001F32D-\\U0001F32F\" u\"\\U0001F330-\\U0001F331\" u\"\\U0001F332-\\U0001F333\"\n",
    "           u\"\\U0001F334-\\U0001F335\" u\"\\U0001F337-\\U0001F34A\" u\"\\U0001F34C-\\U0001F34F\"\n",
    "           u\"\\U0001F351-\\U0001F37B\" u\"\\U0001F37E-\\U0001F37F\" u\"\\U0001F380-\\U0001F393\"\n",
    "           u\"\\U0001F3A0-\\U0001F3C4\" u\"\\U0001F3CF-\\U0001F3D3\" u\"\\U0001F3E0-\\U0001F3E3\"\n",
    "           u\"\\U0001F3E5-\\U0001F3F0\" u\"\\U0001F3F8-\\U0001F407\" u\"\\U0001F409-\\U0001F40B\"\n",
    "           u\"\\U0001F40C-\\U0001F40E\" u\"\\U0001F40F-\\U0001F410\" u\"\\U0001F411-\\U0001F412\"\n",
    "           u\"\\U0001F417-\\U0001F429\" u\"\\U0001F42B-\\U0001F43E\" u\"\\U0001F442-\\U0001F464\"\n",
    "           u\"\\U0001F466-\\U0001F46B\" u\"\\U0001F46C-\\U0001F46D\" u\"\\U0001F46E-\\U0001F4AC\"\n",
    "           u\"\\U0001F4AE-\\U0001F4B5\" u\"\\U0001F4B6-\\U0001F4B7\" u\"\\U0001F4B8-\\U0001F4EB\"\n",
    "           u\"\\U0001F4EC-\\U0001F4ED\" u\"\\U0001F4F0-\\U0001F4F4\" u\"\\U0001F4F6-\\U0001F4F7\"\n",
    "           u\"\\U0001F4F9-\\U0001F4FC\" u\"\\U0001F4FF-\\U0001F502\" u\"\\U0001F504-\\U0001F507\"\n",
    "           u\"\\U0001F50A-\\U0001F514\" u\"\\U0001F516-\\U0001F52B\" u\"\\U0001F52C-\\U0001F52D\"\n",
    "           u\"\\U0001F52E-\\U0001F53D\" u\"\\U0001F54B-\\U0001F54E\" u\"\\U0001F550-\\U0001F55B\"\n",
    "           u\"\\U0001F55C-\\U0001F567\" u\"\\U0001F595-\\U0001F596\" u\"\\U0001F5FB-\\U0001F5FF\"\n",
    "           u\"\\U0001F7E0-\\U0001F7EB\" u\"\\U0001F90D-\\U0001F90F\" u\"\\U0001F910-\\U0001F918\"\n",
    "           u\"\\U0001F919-\\U0001F91E\" u\"\\U0001F920-\\U0001F927\" u\"\\U0001F928-\\U0001F92F\"\n",
    "           u\"\\U0001F931-\\U0001F932\" u\"\\U0001F933-\\U0001F93A\" u\"\\U0001F93C-\\U0001F93E\"\n",
    "           u\"\\U0001F940-\\U0001F945\" u\"\\U0001F947-\\U0001F94B\" u\"\\U0001F94D-\\U0001F94F\"\n",
    "           u\"\\U0001F950-\\U0001F95E\" u\"\\U0001F95F-\\U0001F96B\" u\"\\U0001F96C-\\U0001F970\"\n",
    "           u\"\\U0001F973-\\U0001F976\" u\"\\U0001F977-\\U0001F978\" u\"\\U0001F97C-\\U0001F97F\"\n",
    "           u\"\\U0001F980-\\U0001F984\" u\"\\U0001F985-\\U0001F991\" u\"\\U0001F992-\\U0001F997\"\n",
    "           u\"\\U0001F998-\\U0001F9A2\" u\"\\U0001F9A3-\\U0001F9A4\" u\"\\U0001F9A5-\\U0001F9AA\"\n",
    "           u\"\\U0001F9AB-\\U0001F9AD\" u\"\\U0001F9AE-\\U0001F9AF\" u\"\\U0001F9B0-\\U0001F9B9\"\n",
    "           u\"\\U0001F9BA-\\U0001F9BF\" u\"\\U0001F9C1-\\U0001F9C2\" u\"\\U0001F9C3-\\U0001F9CA\"\n",
    "           u\"\\U0001F9CD-\\U0001F9CF\" u\"\\U0001F9D0-\\U0001F9E6\" u\"\\U0001F9E7-\\U0001F9FF\"\n",
    "           u\"\\U0001FA70-\\U0001FA73\" u\"\\U0001FA78-\\U0001FA7A\" u\"\\U0001FA7B-\\U0001FA7C\"\n",
    "           u\"\\U0001FA80-\\U0001FA82\" u\"\\U0001FA83-\\U0001FA86\" u\"\\U0001FA90-\\U0001FA95\"\n",
    "           u\"\\U0001FA96-\\U0001FAA8\" u\"\\U0001FAA9-\\U0001FAAC\" u\"\\U0001FAB0-\\U0001FAB6\"\n",
    "           u\"\\U0001FAB7-\\U0001FABA\" u\"\\U0001FAC0-\\U0001FAC2\" u\"\\U0001FAC3-\\U0001FAC5\"\n",
    "           u\"\\U0001FAD0-\\U0001FAD6\" u\"\\U0001FAD7-\\U0001FAD9\" u\"\\U0001FAE0-\\U0001FAE7\"\n",
    "           u\"\\U0001FAF0-\\U0001FAF6\" u\"\\U00002702-\\U000027B0\" u\"\\U00002702-\\U000027B0\" \n",
    "           u\"\\U000024C2-\\U0001F251\" u\"\\U0001f926-\\U0001f937\" u\"\\U00010000-\\U0010ffff\"\n",
    "           u\"\\u231A-\\u231B\" u\"\\u200d\" u\"\\u23E9-\\u23EC\" u\"\\u25FD-\\u25FE\" u\"\\u2600-\\u2B55\" \n",
    "           u\"\\ufe0f\"  # dingbats\n",
    "           u\"\\u3030\" \"]+\", flags=re.UNICODE)\n",
    "\n",
    "apostrophe_dict = {\n",
    "            \"ain`t\": \"am not / are not\",\n",
    "            \"aren`t\": \"are not / am not\",\n",
    "            \"can`t\": \"cannot\",\n",
    "            \"can`t`ve\": \"cannot have\",\n",
    "            \"`cause\": \"because\",\n",
    "            \"could`ve\": \"could have\",\n",
    "            \"couldn`t\": \"could not\",\n",
    "            \"couldn`t`ve\": \"could not have\",\n",
    "            \"didn`t\": \"did not\",\n",
    "            \"doesn`t\": \"does not\",\n",
    "            \"don`t\": \"do not\",\n",
    "            \"hadn`t\": \"had not\",\n",
    "            \"hadn`t've\": \"had not have\",\n",
    "            \"hasn`t\": \"has not\",\n",
    "            \"haven`t\": \"have not\",\n",
    "            \"he`d\": \"he had / he would\",\n",
    "            \"he`d`ve\": \"he would have\",\n",
    "            \"he`ll\": \"he shall / he will\",\n",
    "            \"he`ll`ve\": \"he shall have / he will have\",\n",
    "            \"he`s\": \"he has / he is\",\n",
    "            \"how`d\": \"how did\",\n",
    "            \"how`d'y\": \"how do you\",\n",
    "            \"how`ll\": \"how will\",\n",
    "            \"how`s\": \"how has / how is\",\n",
    "            \"i`d\": \"I had / I would\",\n",
    "            \"i`d`ve\": \"I would have\",\n",
    "            \"i`ll\": \"I shall / I will\",\n",
    "            \"i`ll`ve\": \"I shall have / I will have\",\n",
    "            \"i`m\": \"I am\",\n",
    "            \"i`ve\": \"I have\",\n",
    "            \"isn`t\": \"is not\",\n",
    "            \"it`d\": \"it had / it would\",\n",
    "            \"it`d`ve\": \"it would have\",\n",
    "            \"it`ll\": \"it shall / it will\",\n",
    "            \"it`ll`ve\": \"it shall have / it will have\",\n",
    "            \"it`s\": \"it has / it is\",\n",
    "            \"let`s\": \"let us\",\n",
    "            \"ma`am\": \"madam\",\n",
    "            \"mayn`t\": \"may not\",\n",
    "            \"might`ve\": \"might have\",\n",
    "            \"mightn`t\": \"might not\",\n",
    "            \"mightn`t`ve\": \"might not have\",\n",
    "            \"must`ve\": \"must have\",\n",
    "            \"mustn`t\": \"must not\",\n",
    "            \"mustn`t`ve\": \"must not have\",\n",
    "            \"needn`t\": \"need not\",\n",
    "            \"needn`t`ve\": \"need not have\",\n",
    "            \"o`clock\": \"of the clock\",\n",
    "            \"oughtn`t\": \"ought not\",\n",
    "            \"oughtn`t`ve\": \"ought not have\",\n",
    "            \"shan`t\": \"shall not\",\n",
    "            \"sha`n`t\": \"shall not\",\n",
    "            \"shan`t`ve\": \"shall not have\",\n",
    "            \"she`d\": \"she had / she would\",\n",
    "            \"she`d`ve\": \"she would have\",\n",
    "            \"she`ll\": \"she shall / she will\",\n",
    "            \"she`ll`ve\": \"she shall have / she will have\",\n",
    "            \"she`s\": \"she has / she is\",\n",
    "            \"should`ve\": \"should have\",\n",
    "            \"shouldn`t\": \"should not\",\n",
    "            \"shouldn`t`ve\": \"should not have\",\n",
    "            \"so`ve\": \"so have\",\n",
    "            \"so`s\": \"so as / so is\",\n",
    "            \"that`d\": \"that would / that had\",\n",
    "            \"that`d've\": \"that would have\",\n",
    "            \"that`s\": \"that has / that is\",\n",
    "            \"there`d\": \"there had / there would\",\n",
    "            \"there`d`ve\": \"there would have\",\n",
    "            \"there`s\": \"there has / there is\",\n",
    "            \"they`d\": \"they had / they would\",\n",
    "            \"they`d`ve\": \"they would have\",\n",
    "            \"they`ll\": \"they shall / they will\",\n",
    "            \"they`ll`ve\": \"they shall have / they will have\",\n",
    "            \"they`re\": \"they are\",\n",
    "            \"they`ve\": \"they have\",\n",
    "            \"to`ve\": \"to have\",\n",
    "            \"wasn`t\": \"was not\",\n",
    "            \"we`d\": \"we had / we would\",\n",
    "            \"we`d`ve\": \"we would have\",\n",
    "            \"we`ll\": \"we will\",\n",
    "            \"we`ll`ve\": \"we will have\",\n",
    "            \"we`re\": \"we are\",\n",
    "            \"we`ve\": \"we have\",\n",
    "            \"weren`t\": \"were not\",\n",
    "            \"what`ll\": \"what shall / what will\",\n",
    "            \"what`ll`ve\": \"what shall have / what will have\",\n",
    "            \"what`re\": \"what are\",\n",
    "            \"what`s\": \"what has / what is\",\n",
    "            \"what`ve\": \"what have\",\n",
    "            \"when`s\": \"when has / when is\",\n",
    "            \"when`ve\": \"when have\",\n",
    "            \"where`d\": \"where did\",\n",
    "            \"where`s\": \"where has / where is\",\n",
    "            \"where`ve\": \"where have\",\n",
    "            \"who`ll\": \"who shall / who will\",\n",
    "            \"who`ll`ve\": \"who shall have / who will have\",\n",
    "            \"who`s\": \"who has / who is\",\n",
    "            \"who`ve\": \"who have\",\n",
    "            \"why`s\": \"why has / why is\",\n",
    "            \"why`ve\": \"why have\",\n",
    "            \"will`ve\": \"will have\",\n",
    "            \"won`t\": \"will not\",\n",
    "            \"won`t`ve\": \"will not have\",\n",
    "            \"would`ve\": \"would have\",\n",
    "            \"wouldn`t\": \"would not\",\n",
    "            \"wouldn`t`ve\": \"would not have\",\n",
    "            \"y`all\": \"you all\",\n",
    "            \"y`all`d\": \"you all would\",\n",
    "            \"y`all`d`ve\": \"you all would have\",\n",
    "            \"y`all`re\": \"you all are\",\n",
    "            \"y`all`ve\": \"you all have\",\n",
    "            \"you`d\": \"you had / you would\",\n",
    "            \"you`d`ve\": \"you would have\",\n",
    "            \"you`ll\": \"you shall / you will\",\n",
    "            \"you`ll`ve\": \"you shall have / you will have\",\n",
    "            \"you`re\": \"you are\",\n",
    "            \"you`ve\": \"you have\"\n",
    "        }\n",
    "\n",
    "@lru_cache(maxsize=2048)\n",
    "def text_preprocess_light(text):\n",
    "    text = str(text)\n",
    "    text = re_url.sub('', text)\n",
    "    nicks = re.findall(r'@[\\w]*', text)\n",
    "    for nick in nicks:\n",
    "        text = re.sub(nick, ' ', text)\n",
    "    re_html = re.compile('<.*?>')\n",
    "    text = re_html.sub(r'', text)\n",
    "    text = emoji_pattern.sub(r'',text)\n",
    "    for word in text.split():\n",
    "        if word.lower() in apostrophe_dict:\n",
    "            text = re.sub(word, apostrophe_dict[word.lower()], text)\n",
    "    text = ' '.join([word for word in text.split() if len(word) > 1])\n",
    "    text = re.sub(r'[^\\w\\s]', ' ', text)\n",
    "    text = re.sub(r'[^а-яА-Я]', ' ', text)\n",
    "    text = re.sub(r'\\s\\s+', ' ', text)\n",
    "    text = re.sub('не\\s', 'не', text)\n",
    "    text = re.sub('нет\\s', 'нет', text)\n",
    "    text = ' '.join([word for word in text.split() if len(word) > 2])\n",
    "    text = text.lower()\n",
    "#     text = TextBlob(text).correct().string\n",
    "    text = [morph_analyz.parse(word)[0].normal_form for word in text.split() if word not in stopwords_russian] \n",
    "                                                                           # if word not in stopwords_english\n",
    "    return \" \".join(text)"
   ]
  },
  {
   "cell_type": "code",
   "execution_count": 102,
   "id": "fb37b623",
   "metadata": {},
   "outputs": [],
   "source": [
    "# считываем данные и заполняем общий датасет\n",
    "positive = pd.read_csv('positive.csv', sep=';', usecols=[3], names=['text'])\n",
    "positive['label'] = ['positive'] * len(positive)\n",
    "negative = pd.read_csv('negative.csv', sep=';', usecols=[3], names=['text'])\n",
    "negative['label'] = ['negative'] * len(negative)\n",
    "df = positive.append(negative)"
   ]
  },
  {
   "cell_type": "code",
   "execution_count": 103,
   "id": "215b99ec",
   "metadata": {},
   "outputs": [
    {
     "data": {
      "text/html": [
       "<div>\n",
       "<style scoped>\n",
       "    .dataframe tbody tr th:only-of-type {\n",
       "        vertical-align: middle;\n",
       "    }\n",
       "\n",
       "    .dataframe tbody tr th {\n",
       "        vertical-align: top;\n",
       "    }\n",
       "\n",
       "    .dataframe thead th {\n",
       "        text-align: right;\n",
       "    }\n",
       "</style>\n",
       "<table border=\"1\" class=\"dataframe\">\n",
       "  <thead>\n",
       "    <tr style=\"text-align: right;\">\n",
       "      <th></th>\n",
       "      <th>text</th>\n",
       "      <th>label</th>\n",
       "    </tr>\n",
       "  </thead>\n",
       "  <tbody>\n",
       "    <tr>\n",
       "      <th>111918</th>\n",
       "      <td>Но не каждый хочет что то исправлять:( http://...</td>\n",
       "      <td>negative</td>\n",
       "    </tr>\n",
       "    <tr>\n",
       "      <th>111919</th>\n",
       "      <td>скучаю так :-( только @taaannyaaa вправляет мо...</td>\n",
       "      <td>negative</td>\n",
       "    </tr>\n",
       "    <tr>\n",
       "      <th>111920</th>\n",
       "      <td>Вот и в школу, в говно это идти уже надо(</td>\n",
       "      <td>negative</td>\n",
       "    </tr>\n",
       "    <tr>\n",
       "      <th>111921</th>\n",
       "      <td>RT @_Them__: @LisaBeroud Тауриэль, не грусти :...</td>\n",
       "      <td>negative</td>\n",
       "    </tr>\n",
       "    <tr>\n",
       "      <th>111922</th>\n",
       "      <td>Такси везет меня на работу. Раздумываю приплат...</td>\n",
       "      <td>negative</td>\n",
       "    </tr>\n",
       "  </tbody>\n",
       "</table>\n",
       "</div>"
      ],
      "text/plain": [
       "                                                     text     label\n",
       "111918  Но не каждый хочет что то исправлять:( http://...  negative\n",
       "111919  скучаю так :-( только @taaannyaaa вправляет мо...  negative\n",
       "111920          Вот и в школу, в говно это идти уже надо(  negative\n",
       "111921  RT @_Them__: @LisaBeroud Тауриэль, не грусти :...  negative\n",
       "111922  Такси везет меня на работу. Раздумываю приплат...  negative"
      ]
     },
     "execution_count": 103,
     "metadata": {},
     "output_type": "execute_result"
    }
   ],
   "source": [
    "df.tail()"
   ]
  },
  {
   "cell_type": "code",
   "execution_count": 104,
   "id": "aa7e0c15",
   "metadata": {},
   "outputs": [
    {
     "name": "stderr",
     "output_type": "stream",
     "text": [
      "100%|█████████████████████████████████████████████████████████████████████████| 226834/226834 [12:54<00:00, 292.84it/s]\n"
     ]
    }
   ],
   "source": [
    "tqdm.pandas()\n",
    "df['text_pre'] = df['text'].progress_apply(text_preprocess_light)"
   ]
  },
  {
   "cell_type": "code",
   "execution_count": 105,
   "id": "de3b6323",
   "metadata": {},
   "outputs": [
    {
     "data": {
      "text/html": [
       "<div>\n",
       "<style scoped>\n",
       "    .dataframe tbody tr th:only-of-type {\n",
       "        vertical-align: middle;\n",
       "    }\n",
       "\n",
       "    .dataframe tbody tr th {\n",
       "        vertical-align: top;\n",
       "    }\n",
       "\n",
       "    .dataframe thead th {\n",
       "        text-align: right;\n",
       "    }\n",
       "</style>\n",
       "<table border=\"1\" class=\"dataframe\">\n",
       "  <thead>\n",
       "    <tr style=\"text-align: right;\">\n",
       "      <th></th>\n",
       "      <th>text</th>\n",
       "      <th>label</th>\n",
       "      <th>text_pre</th>\n",
       "    </tr>\n",
       "  </thead>\n",
       "  <tbody>\n",
       "    <tr>\n",
       "      <th>111918</th>\n",
       "      <td>Но не каждый хочет что то исправлять:( http://...</td>\n",
       "      <td>negative</td>\n",
       "      <td>некаждый хотеть исправлять</td>\n",
       "    </tr>\n",
       "    <tr>\n",
       "      <th>111919</th>\n",
       "      <td>скучаю так :-( только @taaannyaaa вправляет мо...</td>\n",
       "      <td>negative</td>\n",
       "      <td>скучать вправлять мозг равно скучать</td>\n",
       "    </tr>\n",
       "    <tr>\n",
       "      <th>111920</th>\n",
       "      <td>Вот и в школу, в говно это идти уже надо(</td>\n",
       "      <td>negative</td>\n",
       "      <td>школа говно идти</td>\n",
       "    </tr>\n",
       "    <tr>\n",
       "      <th>111921</th>\n",
       "      <td>RT @_Them__: @LisaBeroud Тауриэль, не грусти :...</td>\n",
       "      <td>negative</td>\n",
       "      <td>тауриэль негрусть обнять</td>\n",
       "    </tr>\n",
       "    <tr>\n",
       "      <th>111922</th>\n",
       "      <td>Такси везет меня на работу. Раздумываю приплат...</td>\n",
       "      <td>negative</td>\n",
       "      <td>такси везти работа раздумывать приплатить втащ...</td>\n",
       "    </tr>\n",
       "  </tbody>\n",
       "</table>\n",
       "</div>"
      ],
      "text/plain": [
       "                                                     text     label  \\\n",
       "111918  Но не каждый хочет что то исправлять:( http://...  negative   \n",
       "111919  скучаю так :-( только @taaannyaaa вправляет мо...  negative   \n",
       "111920          Вот и в школу, в говно это идти уже надо(  negative   \n",
       "111921  RT @_Them__: @LisaBeroud Тауриэль, не грусти :...  negative   \n",
       "111922  Такси везет меня на работу. Раздумываю приплат...  negative   \n",
       "\n",
       "                                                 text_pre  \n",
       "111918                         некаждый хотеть исправлять  \n",
       "111919               скучать вправлять мозг равно скучать  \n",
       "111920                                   школа говно идти  \n",
       "111921                           тауриэль негрусть обнять  \n",
       "111922  такси везти работа раздумывать приплатить втащ...  "
      ]
     },
     "execution_count": 105,
     "metadata": {},
     "output_type": "execute_result"
    }
   ],
   "source": [
    "df.tail()"
   ]
  },
  {
   "cell_type": "code",
   "execution_count": 106,
   "id": "e5a084fe",
   "metadata": {},
   "outputs": [],
   "source": [
    "df.insert(1, 'text_token', [word_tokenize(tweet) for tweet in df['text']], allow_duplicates=True)"
   ]
  },
  {
   "cell_type": "code",
   "execution_count": 107,
   "id": "ea5de2c5",
   "metadata": {},
   "outputs": [
    {
     "data": {
      "text/html": [
       "<div>\n",
       "<style scoped>\n",
       "    .dataframe tbody tr th:only-of-type {\n",
       "        vertical-align: middle;\n",
       "    }\n",
       "\n",
       "    .dataframe tbody tr th {\n",
       "        vertical-align: top;\n",
       "    }\n",
       "\n",
       "    .dataframe thead th {\n",
       "        text-align: right;\n",
       "    }\n",
       "</style>\n",
       "<table border=\"1\" class=\"dataframe\">\n",
       "  <thead>\n",
       "    <tr style=\"text-align: right;\">\n",
       "      <th></th>\n",
       "      <th>text</th>\n",
       "      <th>text_token</th>\n",
       "      <th>label</th>\n",
       "      <th>text_pre</th>\n",
       "    </tr>\n",
       "  </thead>\n",
       "  <tbody>\n",
       "    <tr>\n",
       "      <th>0</th>\n",
       "      <td>@first_timee хоть я и школота, но поверь, у на...</td>\n",
       "      <td>[@, first_timee, хоть, я, и, школота, ,, но, п...</td>\n",
       "      <td>positive</td>\n",
       "      <td>школотый поверь самый общество профилировать п...</td>\n",
       "    </tr>\n",
       "    <tr>\n",
       "      <th>1</th>\n",
       "      <td>Да, все-таки он немного похож на него. Но мой ...</td>\n",
       "      <td>[Да, ,, все-таки, он, немного, похож, на, него...</td>\n",
       "      <td>positive</td>\n",
       "      <td>таки похожий мальчик равно</td>\n",
       "    </tr>\n",
       "    <tr>\n",
       "      <th>2</th>\n",
       "      <td>RT @KatiaCheh: Ну ты идиотка) я испугалась за ...</td>\n",
       "      <td>[RT, @, KatiaCheh, :, Ну, ты, идиотка, ), я, и...</td>\n",
       "      <td>positive</td>\n",
       "      <td>идиотка испугаться</td>\n",
       "    </tr>\n",
       "    <tr>\n",
       "      <th>3</th>\n",
       "      <td>RT @digger2912: \"Кто то в углу сидит и погибае...</td>\n",
       "      <td>[RT, @, digger2912, :, ``, Кто, то, в, углу, с...</td>\n",
       "      <td>positive</td>\n",
       "      <td>угол сидеть погибать голод порция взять жрать ...</td>\n",
       "    </tr>\n",
       "    <tr>\n",
       "      <th>4</th>\n",
       "      <td>@irina_dyshkant Вот что значит страшилка :D\\nН...</td>\n",
       "      <td>[@, irina_dyshkant, Вот, что, значит, страшилк...</td>\n",
       "      <td>positive</td>\n",
       "      <td>страшилка блин посмотреть часть создаться ощущ...</td>\n",
       "    </tr>\n",
       "    <tr>\n",
       "      <th>...</th>\n",
       "      <td>...</td>\n",
       "      <td>...</td>\n",
       "      <td>...</td>\n",
       "      <td>...</td>\n",
       "    </tr>\n",
       "    <tr>\n",
       "      <th>111918</th>\n",
       "      <td>Но не каждый хочет что то исправлять:( http://...</td>\n",
       "      <td>[Но, не, каждый, хочет, что, то, исправлять, :...</td>\n",
       "      <td>negative</td>\n",
       "      <td>некаждый хотеть исправлять</td>\n",
       "    </tr>\n",
       "    <tr>\n",
       "      <th>111919</th>\n",
       "      <td>скучаю так :-( только @taaannyaaa вправляет мо...</td>\n",
       "      <td>[скучаю, так, :, -, (, только, @, taaannyaaa, ...</td>\n",
       "      <td>negative</td>\n",
       "      <td>скучать вправлять мозг равно скучать</td>\n",
       "    </tr>\n",
       "    <tr>\n",
       "      <th>111920</th>\n",
       "      <td>Вот и в школу, в говно это идти уже надо(</td>\n",
       "      <td>[Вот, и, в, школу, ,, в, говно, это, идти, уже...</td>\n",
       "      <td>negative</td>\n",
       "      <td>школа говно идти</td>\n",
       "    </tr>\n",
       "    <tr>\n",
       "      <th>111921</th>\n",
       "      <td>RT @_Them__: @LisaBeroud Тауриэль, не грусти :...</td>\n",
       "      <td>[RT, @, _Them__, :, @, LisaBeroud, Тауриэль, ,...</td>\n",
       "      <td>negative</td>\n",
       "      <td>тауриэль негрусть обнять</td>\n",
       "    </tr>\n",
       "    <tr>\n",
       "      <th>111922</th>\n",
       "      <td>Такси везет меня на работу. Раздумываю приплат...</td>\n",
       "      <td>[Такси, везет, меня, на, работу, ., Раздумываю...</td>\n",
       "      <td>negative</td>\n",
       "      <td>такси везти работа раздумывать приплатить втащ...</td>\n",
       "    </tr>\n",
       "  </tbody>\n",
       "</table>\n",
       "<p>226834 rows × 4 columns</p>\n",
       "</div>"
      ],
      "text/plain": [
       "                                                     text  \\\n",
       "0       @first_timee хоть я и школота, но поверь, у на...   \n",
       "1       Да, все-таки он немного похож на него. Но мой ...   \n",
       "2       RT @KatiaCheh: Ну ты идиотка) я испугалась за ...   \n",
       "3       RT @digger2912: \"Кто то в углу сидит и погибае...   \n",
       "4       @irina_dyshkant Вот что значит страшилка :D\\nН...   \n",
       "...                                                   ...   \n",
       "111918  Но не каждый хочет что то исправлять:( http://...   \n",
       "111919  скучаю так :-( только @taaannyaaa вправляет мо...   \n",
       "111920          Вот и в школу, в говно это идти уже надо(   \n",
       "111921  RT @_Them__: @LisaBeroud Тауриэль, не грусти :...   \n",
       "111922  Такси везет меня на работу. Раздумываю приплат...   \n",
       "\n",
       "                                               text_token     label  \\\n",
       "0       [@, first_timee, хоть, я, и, школота, ,, но, п...  positive   \n",
       "1       [Да, ,, все-таки, он, немного, похож, на, него...  positive   \n",
       "2       [RT, @, KatiaCheh, :, Ну, ты, идиотка, ), я, и...  positive   \n",
       "3       [RT, @, digger2912, :, ``, Кто, то, в, углу, с...  positive   \n",
       "4       [@, irina_dyshkant, Вот, что, значит, страшилк...  positive   \n",
       "...                                                   ...       ...   \n",
       "111918  [Но, не, каждый, хочет, что, то, исправлять, :...  negative   \n",
       "111919  [скучаю, так, :, -, (, только, @, taaannyaaa, ...  negative   \n",
       "111920  [Вот, и, в, школу, ,, в, говно, это, идти, уже...  negative   \n",
       "111921  [RT, @, _Them__, :, @, LisaBeroud, Тауриэль, ,...  negative   \n",
       "111922  [Такси, везет, меня, на, работу, ., Раздумываю...  negative   \n",
       "\n",
       "                                                 text_pre  \n",
       "0       школотый поверь самый общество профилировать п...  \n",
       "1                              таки похожий мальчик равно  \n",
       "2                                      идиотка испугаться  \n",
       "3       угол сидеть погибать голод порция взять жрать ...  \n",
       "4       страшилка блин посмотреть часть создаться ощущ...  \n",
       "...                                                   ...  \n",
       "111918                         некаждый хотеть исправлять  \n",
       "111919               скучать вправлять мозг равно скучать  \n",
       "111920                                   школа говно идти  \n",
       "111921                           тауриэль негрусть обнять  \n",
       "111922  такси везти работа раздумывать приплатить втащ...  \n",
       "\n",
       "[226834 rows x 4 columns]"
      ]
     },
     "execution_count": 107,
     "metadata": {},
     "output_type": "execute_result"
    }
   ],
   "source": [
    "df"
   ]
  },
  {
   "cell_type": "code",
   "execution_count": 108,
   "id": "96683f2b",
   "metadata": {},
   "outputs": [],
   "source": [
    "stem_tweet_token =[]\n",
    "for tokens in df['text_token']:\n",
    "    stem_token =  [ps().stem(token) for token in tokens]\n",
    "    stem_tweet_token.append(stem_token)"
   ]
  },
  {
   "cell_type": "code",
   "execution_count": 109,
   "id": "b6dda5de",
   "metadata": {},
   "outputs": [],
   "source": [
    "df.insert(2, 'text_stemmed', stem_tweet_token, allow_duplicates=True)"
   ]
  },
  {
   "cell_type": "code",
   "execution_count": 110,
   "id": "0aa2f237",
   "metadata": {},
   "outputs": [
    {
     "data": {
      "text/html": [
       "<div>\n",
       "<style scoped>\n",
       "    .dataframe tbody tr th:only-of-type {\n",
       "        vertical-align: middle;\n",
       "    }\n",
       "\n",
       "    .dataframe tbody tr th {\n",
       "        vertical-align: top;\n",
       "    }\n",
       "\n",
       "    .dataframe thead th {\n",
       "        text-align: right;\n",
       "    }\n",
       "</style>\n",
       "<table border=\"1\" class=\"dataframe\">\n",
       "  <thead>\n",
       "    <tr style=\"text-align: right;\">\n",
       "      <th></th>\n",
       "      <th>text</th>\n",
       "      <th>text_token</th>\n",
       "      <th>text_stemmed</th>\n",
       "      <th>label</th>\n",
       "      <th>text_pre</th>\n",
       "    </tr>\n",
       "  </thead>\n",
       "  <tbody>\n",
       "    <tr>\n",
       "      <th>0</th>\n",
       "      <td>@first_timee хоть я и школота, но поверь, у на...</td>\n",
       "      <td>[@, first_timee, хоть, я, и, школота, ,, но, п...</td>\n",
       "      <td>[@, first_time, хоть, я, и, школота, ,, но, по...</td>\n",
       "      <td>positive</td>\n",
       "      <td>школотый поверь самый общество профилировать п...</td>\n",
       "    </tr>\n",
       "    <tr>\n",
       "      <th>1</th>\n",
       "      <td>Да, все-таки он немного похож на него. Но мой ...</td>\n",
       "      <td>[Да, ,, все-таки, он, немного, похож, на, него...</td>\n",
       "      <td>[да, ,, все-таки, он, немного, похож, на, него...</td>\n",
       "      <td>positive</td>\n",
       "      <td>таки похожий мальчик равно</td>\n",
       "    </tr>\n",
       "    <tr>\n",
       "      <th>2</th>\n",
       "      <td>RT @KatiaCheh: Ну ты идиотка) я испугалась за ...</td>\n",
       "      <td>[RT, @, KatiaCheh, :, Ну, ты, идиотка, ), я, и...</td>\n",
       "      <td>[rt, @, katiacheh, :, ну, ты, идиотка, ), я, и...</td>\n",
       "      <td>positive</td>\n",
       "      <td>идиотка испугаться</td>\n",
       "    </tr>\n",
       "    <tr>\n",
       "      <th>3</th>\n",
       "      <td>RT @digger2912: \"Кто то в углу сидит и погибае...</td>\n",
       "      <td>[RT, @, digger2912, :, ``, Кто, то, в, углу, с...</td>\n",
       "      <td>[rt, @, digger2912, :, ``, кто, то, в, углу, с...</td>\n",
       "      <td>positive</td>\n",
       "      <td>угол сидеть погибать голод порция взять жрать ...</td>\n",
       "    </tr>\n",
       "    <tr>\n",
       "      <th>4</th>\n",
       "      <td>@irina_dyshkant Вот что значит страшилка :D\\nН...</td>\n",
       "      <td>[@, irina_dyshkant, Вот, что, значит, страшилк...</td>\n",
       "      <td>[@, irina_dyshk, вот, что, значит, страшилка, ...</td>\n",
       "      <td>positive</td>\n",
       "      <td>страшилка блин посмотреть часть создаться ощущ...</td>\n",
       "    </tr>\n",
       "    <tr>\n",
       "      <th>...</th>\n",
       "      <td>...</td>\n",
       "      <td>...</td>\n",
       "      <td>...</td>\n",
       "      <td>...</td>\n",
       "      <td>...</td>\n",
       "    </tr>\n",
       "    <tr>\n",
       "      <th>111918</th>\n",
       "      <td>Но не каждый хочет что то исправлять:( http://...</td>\n",
       "      <td>[Но, не, каждый, хочет, что, то, исправлять, :...</td>\n",
       "      <td>[но, не, каждый, хочет, что, то, исправлять, :...</td>\n",
       "      <td>negative</td>\n",
       "      <td>некаждый хотеть исправлять</td>\n",
       "    </tr>\n",
       "    <tr>\n",
       "      <th>111919</th>\n",
       "      <td>скучаю так :-( только @taaannyaaa вправляет мо...</td>\n",
       "      <td>[скучаю, так, :, -, (, только, @, taaannyaaa, ...</td>\n",
       "      <td>[скучаю, так, :, -, (, только, @, taaannyaaa, ...</td>\n",
       "      <td>negative</td>\n",
       "      <td>скучать вправлять мозг равно скучать</td>\n",
       "    </tr>\n",
       "    <tr>\n",
       "      <th>111920</th>\n",
       "      <td>Вот и в школу, в говно это идти уже надо(</td>\n",
       "      <td>[Вот, и, в, школу, ,, в, говно, это, идти, уже...</td>\n",
       "      <td>[вот, и, в, школу, ,, в, говно, это, идти, уже...</td>\n",
       "      <td>negative</td>\n",
       "      <td>школа говно идти</td>\n",
       "    </tr>\n",
       "    <tr>\n",
       "      <th>111921</th>\n",
       "      <td>RT @_Them__: @LisaBeroud Тауриэль, не грусти :...</td>\n",
       "      <td>[RT, @, _Them__, :, @, LisaBeroud, Тауриэль, ,...</td>\n",
       "      <td>[rt, @, _them__, :, @, lisaberoud, тауриэль, ,...</td>\n",
       "      <td>negative</td>\n",
       "      <td>тауриэль негрусть обнять</td>\n",
       "    </tr>\n",
       "    <tr>\n",
       "      <th>111922</th>\n",
       "      <td>Такси везет меня на работу. Раздумываю приплат...</td>\n",
       "      <td>[Такси, везет, меня, на, работу, ., Раздумываю...</td>\n",
       "      <td>[такси, везет, меня, на, работу, ., раздумываю...</td>\n",
       "      <td>negative</td>\n",
       "      <td>такси везти работа раздумывать приплатить втащ...</td>\n",
       "    </tr>\n",
       "  </tbody>\n",
       "</table>\n",
       "<p>226834 rows × 5 columns</p>\n",
       "</div>"
      ],
      "text/plain": [
       "                                                     text  \\\n",
       "0       @first_timee хоть я и школота, но поверь, у на...   \n",
       "1       Да, все-таки он немного похож на него. Но мой ...   \n",
       "2       RT @KatiaCheh: Ну ты идиотка) я испугалась за ...   \n",
       "3       RT @digger2912: \"Кто то в углу сидит и погибае...   \n",
       "4       @irina_dyshkant Вот что значит страшилка :D\\nН...   \n",
       "...                                                   ...   \n",
       "111918  Но не каждый хочет что то исправлять:( http://...   \n",
       "111919  скучаю так :-( только @taaannyaaa вправляет мо...   \n",
       "111920          Вот и в школу, в говно это идти уже надо(   \n",
       "111921  RT @_Them__: @LisaBeroud Тауриэль, не грусти :...   \n",
       "111922  Такси везет меня на работу. Раздумываю приплат...   \n",
       "\n",
       "                                               text_token  \\\n",
       "0       [@, first_timee, хоть, я, и, школота, ,, но, п...   \n",
       "1       [Да, ,, все-таки, он, немного, похож, на, него...   \n",
       "2       [RT, @, KatiaCheh, :, Ну, ты, идиотка, ), я, и...   \n",
       "3       [RT, @, digger2912, :, ``, Кто, то, в, углу, с...   \n",
       "4       [@, irina_dyshkant, Вот, что, значит, страшилк...   \n",
       "...                                                   ...   \n",
       "111918  [Но, не, каждый, хочет, что, то, исправлять, :...   \n",
       "111919  [скучаю, так, :, -, (, только, @, taaannyaaa, ...   \n",
       "111920  [Вот, и, в, школу, ,, в, говно, это, идти, уже...   \n",
       "111921  [RT, @, _Them__, :, @, LisaBeroud, Тауриэль, ,...   \n",
       "111922  [Такси, везет, меня, на, работу, ., Раздумываю...   \n",
       "\n",
       "                                             text_stemmed     label  \\\n",
       "0       [@, first_time, хоть, я, и, школота, ,, но, по...  positive   \n",
       "1       [да, ,, все-таки, он, немного, похож, на, него...  positive   \n",
       "2       [rt, @, katiacheh, :, ну, ты, идиотка, ), я, и...  positive   \n",
       "3       [rt, @, digger2912, :, ``, кто, то, в, углу, с...  positive   \n",
       "4       [@, irina_dyshk, вот, что, значит, страшилка, ...  positive   \n",
       "...                                                   ...       ...   \n",
       "111918  [но, не, каждый, хочет, что, то, исправлять, :...  negative   \n",
       "111919  [скучаю, так, :, -, (, только, @, taaannyaaa, ...  negative   \n",
       "111920  [вот, и, в, школу, ,, в, говно, это, идти, уже...  negative   \n",
       "111921  [rt, @, _them__, :, @, lisaberoud, тауриэль, ,...  negative   \n",
       "111922  [такси, везет, меня, на, работу, ., раздумываю...  negative   \n",
       "\n",
       "                                                 text_pre  \n",
       "0       школотый поверь самый общество профилировать п...  \n",
       "1                              таки похожий мальчик равно  \n",
       "2                                      идиотка испугаться  \n",
       "3       угол сидеть погибать голод порция взять жрать ...  \n",
       "4       страшилка блин посмотреть часть создаться ощущ...  \n",
       "...                                                   ...  \n",
       "111918                         некаждый хотеть исправлять  \n",
       "111919               скучать вправлять мозг равно скучать  \n",
       "111920                                   школа говно идти  \n",
       "111921                           тауриэль негрусть обнять  \n",
       "111922  такси везти работа раздумывать приплатить втащ...  \n",
       "\n",
       "[226834 rows x 5 columns]"
      ]
     },
     "execution_count": 110,
     "metadata": {},
     "output_type": "execute_result"
    }
   ],
   "source": [
    "df"
   ]
  },
  {
   "cell_type": "code",
   "execution_count": 111,
   "id": "02042f5a",
   "metadata": {},
   "outputs": [],
   "source": [
    "lemma_tweet_token =[]\n",
    "for tokens in df['text_stemmed']:\n",
    "    lemma_token =  [lem().lemmatize(token) for token in tokens]\n",
    "    lemma_tweet_token.append(lemma_token)"
   ]
  },
  {
   "cell_type": "code",
   "execution_count": 112,
   "id": "9ab3c243",
   "metadata": {},
   "outputs": [],
   "source": [
    "df.insert(3, 'text_lemmatized', lemma_tweet_token, allow_duplicates=True)"
   ]
  },
  {
   "cell_type": "code",
   "execution_count": 113,
   "id": "20cc5bfb",
   "metadata": {},
   "outputs": [
    {
     "data": {
      "text/html": [
       "<div>\n",
       "<style scoped>\n",
       "    .dataframe tbody tr th:only-of-type {\n",
       "        vertical-align: middle;\n",
       "    }\n",
       "\n",
       "    .dataframe tbody tr th {\n",
       "        vertical-align: top;\n",
       "    }\n",
       "\n",
       "    .dataframe thead th {\n",
       "        text-align: right;\n",
       "    }\n",
       "</style>\n",
       "<table border=\"1\" class=\"dataframe\">\n",
       "  <thead>\n",
       "    <tr style=\"text-align: right;\">\n",
       "      <th></th>\n",
       "      <th>text</th>\n",
       "      <th>text_token</th>\n",
       "      <th>text_stemmed</th>\n",
       "      <th>text_lemmatized</th>\n",
       "      <th>label</th>\n",
       "      <th>text_pre</th>\n",
       "    </tr>\n",
       "  </thead>\n",
       "  <tbody>\n",
       "    <tr>\n",
       "      <th>0</th>\n",
       "      <td>@first_timee хоть я и школота, но поверь, у на...</td>\n",
       "      <td>[@, first_timee, хоть, я, и, школота, ,, но, п...</td>\n",
       "      <td>[@, first_time, хоть, я, и, школота, ,, но, по...</td>\n",
       "      <td>[@, first_time, хоть, я, и, школота, ,, но, по...</td>\n",
       "      <td>positive</td>\n",
       "      <td>школотый поверь самый общество профилировать п...</td>\n",
       "    </tr>\n",
       "    <tr>\n",
       "      <th>1</th>\n",
       "      <td>Да, все-таки он немного похож на него. Но мой ...</td>\n",
       "      <td>[Да, ,, все-таки, он, немного, похож, на, него...</td>\n",
       "      <td>[да, ,, все-таки, он, немного, похож, на, него...</td>\n",
       "      <td>[да, ,, все-таки, он, немного, похож, на, него...</td>\n",
       "      <td>positive</td>\n",
       "      <td>таки похожий мальчик равно</td>\n",
       "    </tr>\n",
       "    <tr>\n",
       "      <th>2</th>\n",
       "      <td>RT @KatiaCheh: Ну ты идиотка) я испугалась за ...</td>\n",
       "      <td>[RT, @, KatiaCheh, :, Ну, ты, идиотка, ), я, и...</td>\n",
       "      <td>[rt, @, katiacheh, :, ну, ты, идиотка, ), я, и...</td>\n",
       "      <td>[rt, @, katiacheh, :, ну, ты, идиотка, ), я, и...</td>\n",
       "      <td>positive</td>\n",
       "      <td>идиотка испугаться</td>\n",
       "    </tr>\n",
       "    <tr>\n",
       "      <th>3</th>\n",
       "      <td>RT @digger2912: \"Кто то в углу сидит и погибае...</td>\n",
       "      <td>[RT, @, digger2912, :, ``, Кто, то, в, углу, с...</td>\n",
       "      <td>[rt, @, digger2912, :, ``, кто, то, в, углу, с...</td>\n",
       "      <td>[rt, @, digger2912, :, ``, кто, то, в, углу, с...</td>\n",
       "      <td>positive</td>\n",
       "      <td>угол сидеть погибать голод порция взять жрать ...</td>\n",
       "    </tr>\n",
       "    <tr>\n",
       "      <th>4</th>\n",
       "      <td>@irina_dyshkant Вот что значит страшилка :D\\nН...</td>\n",
       "      <td>[@, irina_dyshkant, Вот, что, значит, страшилк...</td>\n",
       "      <td>[@, irina_dyshk, вот, что, значит, страшилка, ...</td>\n",
       "      <td>[@, irina_dyshk, вот, что, значит, страшилка, ...</td>\n",
       "      <td>positive</td>\n",
       "      <td>страшилка блин посмотреть часть создаться ощущ...</td>\n",
       "    </tr>\n",
       "    <tr>\n",
       "      <th>...</th>\n",
       "      <td>...</td>\n",
       "      <td>...</td>\n",
       "      <td>...</td>\n",
       "      <td>...</td>\n",
       "      <td>...</td>\n",
       "      <td>...</td>\n",
       "    </tr>\n",
       "    <tr>\n",
       "      <th>111918</th>\n",
       "      <td>Но не каждый хочет что то исправлять:( http://...</td>\n",
       "      <td>[Но, не, каждый, хочет, что, то, исправлять, :...</td>\n",
       "      <td>[но, не, каждый, хочет, что, то, исправлять, :...</td>\n",
       "      <td>[но, не, каждый, хочет, что, то, исправлять, :...</td>\n",
       "      <td>negative</td>\n",
       "      <td>некаждый хотеть исправлять</td>\n",
       "    </tr>\n",
       "    <tr>\n",
       "      <th>111919</th>\n",
       "      <td>скучаю так :-( только @taaannyaaa вправляет мо...</td>\n",
       "      <td>[скучаю, так, :, -, (, только, @, taaannyaaa, ...</td>\n",
       "      <td>[скучаю, так, :, -, (, только, @, taaannyaaa, ...</td>\n",
       "      <td>[скучаю, так, :, -, (, только, @, taaannyaaa, ...</td>\n",
       "      <td>negative</td>\n",
       "      <td>скучать вправлять мозг равно скучать</td>\n",
       "    </tr>\n",
       "    <tr>\n",
       "      <th>111920</th>\n",
       "      <td>Вот и в школу, в говно это идти уже надо(</td>\n",
       "      <td>[Вот, и, в, школу, ,, в, говно, это, идти, уже...</td>\n",
       "      <td>[вот, и, в, школу, ,, в, говно, это, идти, уже...</td>\n",
       "      <td>[вот, и, в, школу, ,, в, говно, это, идти, уже...</td>\n",
       "      <td>negative</td>\n",
       "      <td>школа говно идти</td>\n",
       "    </tr>\n",
       "    <tr>\n",
       "      <th>111921</th>\n",
       "      <td>RT @_Them__: @LisaBeroud Тауриэль, не грусти :...</td>\n",
       "      <td>[RT, @, _Them__, :, @, LisaBeroud, Тауриэль, ,...</td>\n",
       "      <td>[rt, @, _them__, :, @, lisaberoud, тауриэль, ,...</td>\n",
       "      <td>[rt, @, _them__, :, @, lisaberoud, тауриэль, ,...</td>\n",
       "      <td>negative</td>\n",
       "      <td>тауриэль негрусть обнять</td>\n",
       "    </tr>\n",
       "    <tr>\n",
       "      <th>111922</th>\n",
       "      <td>Такси везет меня на работу. Раздумываю приплат...</td>\n",
       "      <td>[Такси, везет, меня, на, работу, ., Раздумываю...</td>\n",
       "      <td>[такси, везет, меня, на, работу, ., раздумываю...</td>\n",
       "      <td>[такси, везет, меня, на, работу, ., раздумываю...</td>\n",
       "      <td>negative</td>\n",
       "      <td>такси везти работа раздумывать приплатить втащ...</td>\n",
       "    </tr>\n",
       "  </tbody>\n",
       "</table>\n",
       "<p>226834 rows × 6 columns</p>\n",
       "</div>"
      ],
      "text/plain": [
       "                                                     text  \\\n",
       "0       @first_timee хоть я и школота, но поверь, у на...   \n",
       "1       Да, все-таки он немного похож на него. Но мой ...   \n",
       "2       RT @KatiaCheh: Ну ты идиотка) я испугалась за ...   \n",
       "3       RT @digger2912: \"Кто то в углу сидит и погибае...   \n",
       "4       @irina_dyshkant Вот что значит страшилка :D\\nН...   \n",
       "...                                                   ...   \n",
       "111918  Но не каждый хочет что то исправлять:( http://...   \n",
       "111919  скучаю так :-( только @taaannyaaa вправляет мо...   \n",
       "111920          Вот и в школу, в говно это идти уже надо(   \n",
       "111921  RT @_Them__: @LisaBeroud Тауриэль, не грусти :...   \n",
       "111922  Такси везет меня на работу. Раздумываю приплат...   \n",
       "\n",
       "                                               text_token  \\\n",
       "0       [@, first_timee, хоть, я, и, школота, ,, но, п...   \n",
       "1       [Да, ,, все-таки, он, немного, похож, на, него...   \n",
       "2       [RT, @, KatiaCheh, :, Ну, ты, идиотка, ), я, и...   \n",
       "3       [RT, @, digger2912, :, ``, Кто, то, в, углу, с...   \n",
       "4       [@, irina_dyshkant, Вот, что, значит, страшилк...   \n",
       "...                                                   ...   \n",
       "111918  [Но, не, каждый, хочет, что, то, исправлять, :...   \n",
       "111919  [скучаю, так, :, -, (, только, @, taaannyaaa, ...   \n",
       "111920  [Вот, и, в, школу, ,, в, говно, это, идти, уже...   \n",
       "111921  [RT, @, _Them__, :, @, LisaBeroud, Тауриэль, ,...   \n",
       "111922  [Такси, везет, меня, на, работу, ., Раздумываю...   \n",
       "\n",
       "                                             text_stemmed  \\\n",
       "0       [@, first_time, хоть, я, и, школота, ,, но, по...   \n",
       "1       [да, ,, все-таки, он, немного, похож, на, него...   \n",
       "2       [rt, @, katiacheh, :, ну, ты, идиотка, ), я, и...   \n",
       "3       [rt, @, digger2912, :, ``, кто, то, в, углу, с...   \n",
       "4       [@, irina_dyshk, вот, что, значит, страшилка, ...   \n",
       "...                                                   ...   \n",
       "111918  [но, не, каждый, хочет, что, то, исправлять, :...   \n",
       "111919  [скучаю, так, :, -, (, только, @, taaannyaaa, ...   \n",
       "111920  [вот, и, в, школу, ,, в, говно, это, идти, уже...   \n",
       "111921  [rt, @, _them__, :, @, lisaberoud, тауриэль, ,...   \n",
       "111922  [такси, везет, меня, на, работу, ., раздумываю...   \n",
       "\n",
       "                                          text_lemmatized     label  \\\n",
       "0       [@, first_time, хоть, я, и, школота, ,, но, по...  positive   \n",
       "1       [да, ,, все-таки, он, немного, похож, на, него...  positive   \n",
       "2       [rt, @, katiacheh, :, ну, ты, идиотка, ), я, и...  positive   \n",
       "3       [rt, @, digger2912, :, ``, кто, то, в, углу, с...  positive   \n",
       "4       [@, irina_dyshk, вот, что, значит, страшилка, ...  positive   \n",
       "...                                                   ...       ...   \n",
       "111918  [но, не, каждый, хочет, что, то, исправлять, :...  negative   \n",
       "111919  [скучаю, так, :, -, (, только, @, taaannyaaa, ...  negative   \n",
       "111920  [вот, и, в, школу, ,, в, говно, это, идти, уже...  negative   \n",
       "111921  [rt, @, _them__, :, @, lisaberoud, тауриэль, ,...  negative   \n",
       "111922  [такси, везет, меня, на, работу, ., раздумываю...  negative   \n",
       "\n",
       "                                                 text_pre  \n",
       "0       школотый поверь самый общество профилировать п...  \n",
       "1                              таки похожий мальчик равно  \n",
       "2                                      идиотка испугаться  \n",
       "3       угол сидеть погибать голод порция взять жрать ...  \n",
       "4       страшилка блин посмотреть часть создаться ощущ...  \n",
       "...                                                   ...  \n",
       "111918                         некаждый хотеть исправлять  \n",
       "111919               скучать вправлять мозг равно скучать  \n",
       "111920                                   школа говно идти  \n",
       "111921                           тауриэль негрусть обнять  \n",
       "111922  такси везти работа раздумывать приплатить втащ...  \n",
       "\n",
       "[226834 rows x 6 columns]"
      ]
     },
     "execution_count": 113,
     "metadata": {},
     "output_type": "execute_result"
    }
   ],
   "source": [
    "df"
   ]
  },
  {
   "cell_type": "code",
   "execution_count": 122,
   "id": "34a3ce07",
   "metadata": {},
   "outputs": [],
   "source": [
    "x_train, x_test, y_train, y_test = train_test_split(df.text_pre, df.label)"
   ]
  },
  {
   "cell_type": "code",
   "execution_count": 123,
   "id": "24489f84",
   "metadata": {},
   "outputs": [
    {
     "name": "stdout",
     "output_type": "stream",
     "text": [
      "2870536\n"
     ]
    },
    {
     "data": {
      "text/plain": [
       "['first_timee',\n",
       " 'хоть',\n",
       " 'я',\n",
       " 'и',\n",
       " 'школота',\n",
       " 'но',\n",
       " 'поверь',\n",
       " 'у',\n",
       " 'нас',\n",
       " 'то',\n",
       " 'же',\n",
       " 'самое',\n",
       " 'D',\n",
       " 'общество',\n",
       " 'профилирующий',\n",
       " 'предмет',\n",
       " 'типа',\n",
       " 'Да',\n",
       " 'все-таки',\n",
       " 'он',\n",
       " 'немного',\n",
       " 'похож',\n",
       " 'на',\n",
       " 'него',\n",
       " 'Но',\n",
       " 'мой',\n",
       " 'мальчик',\n",
       " 'все',\n",
       " 'равно',\n",
       " 'лучше']"
      ]
     },
     "execution_count": 123,
     "metadata": {},
     "output_type": "execute_result"
    }
   ],
   "source": [
    "corpus = [token for tweet in df.text for token in word_tokenize(tweet) if token not in punctuation]\n",
    "print(len(corpus))\n",
    "corpus[:30]"
   ]
  },
  {
   "cell_type": "code",
   "execution_count": 124,
   "id": "a4039f76",
   "metadata": {},
   "outputs": [
    {
     "data": {
      "text/plain": [
       "[('не', 69472),\n",
       " ('и', 55166),\n",
       " ('в', 52902),\n",
       " ('я', 52818),\n",
       " ('RT', 38070),\n",
       " ('на', 35759),\n",
       " ('http', 32998),\n",
       " ('что', 31541),\n",
       " ('с', 27217),\n",
       " ('а', 26860),\n",
       " ('...', 22363),\n",
       " ('меня', 20656),\n",
       " ('у', 18928),\n",
       " ('как', 18279),\n",
       " ('так', 16839),\n",
       " ('D', 16575),\n",
       " ('это', 16542),\n",
       " ('мне', 16337),\n",
       " ('все', 14763),\n",
       " ('ты', 13412),\n",
       " ('но', 12949),\n",
       " (\"''\", 12471),\n",
       " ('Я', 12315),\n",
       " ('``', 11467),\n",
       " ('то', 11432),\n",
       " ('..', 11392),\n",
       " ('по', 11294),\n",
       " ('уже', 10180),\n",
       " ('за', 10038),\n",
       " ('же', 9628)]"
      ]
     },
     "execution_count": 124,
     "metadata": {},
     "output_type": "execute_result"
    }
   ],
   "source": [
    "freq_dict = Counter(corpus)\n",
    "freq_dict_sorted= sorted(freq_dict.items(), key=lambda x: -x[1])\n",
    "list(freq_dict_sorted)[:30]"
   ]
  },
  {
   "cell_type": "code",
   "execution_count": 125,
   "id": "042f4cd7",
   "metadata": {},
   "outputs": [
    {
     "data": {
      "text/plain": [
       "351123"
      ]
     },
     "execution_count": 125,
     "metadata": {},
     "output_type": "execute_result"
    }
   ],
   "source": [
    "len(freq_dict_sorted)"
   ]
  },
  {
   "cell_type": "markdown",
   "id": "aa5a736d",
   "metadata": {},
   "source": [
    "## Задание 1.\n",
    "\n",
    "**Задание**: обучите три классификатора: \n",
    "\n",
    "1) на токенах с высокой частотой \n",
    "\n",
    "2) на токенах со средней частотой \n",
    "\n",
    "3) на токенах с низкой частотой\n",
    "\n",
    "Сравните полученные результаты, оцените какие токены наиболее важные для классификации."
   ]
  },
  {
   "cell_type": "code",
   "execution_count": 126,
   "id": "25f577de",
   "metadata": {},
   "outputs": [
    {
     "data": {
      "image/png": "[encoded data removed]",
      "text/plain": [
       "<Figure size 640x480 with 1 Axes>"
      ]
     },
     "metadata": {},
     "output_type": "display_data"
    }
   ],
   "source": [
    "# High frequency tokens\n",
    "first_part_freqs = [freq for word, freq in freq_dict_sorted[:100]]\n",
    "plt.title('Frequency of occurrence of words in the corpus. High frequency tokens')\n",
    "plt.ylabel('Frequency')\n",
    "plt.plot(first_part_freqs)\n",
    "plt.show()"
   ]
  },
  {
   "cell_type": "code",
   "execution_count": 127,
   "id": "f7a83d9d",
   "metadata": {},
   "outputs": [
    {
     "data": {
      "image/png": "[encoded data removed]",
      "text/plain": [
       "<Figure size 640x480 with 1 Axes>"
      ]
     },
     "metadata": {},
     "output_type": "display_data"
    }
   ],
   "source": [
    "# Мedium frequency tokens\n",
    "plt.title('Frequency of occurrence of words in the corpus. Мedium frequency tokens')\n",
    "plt.ylabel('Frequency')\n",
    "second_part_freqs = [freq for word, freq in freq_dict_sorted[100:1000]]\n",
    "plt.plot(list(range(100,1000)), second_part_freqs)\n",
    "plt.xlim(100, 1000)\n",
    "plt.show()"
   ]
  },
  {
   "cell_type": "code",
   "execution_count": 128,
   "id": "34ac20b9",
   "metadata": {},
   "outputs": [
    {
     "data": {
      "image/png": "[encoded data removed]",
      "text/plain": [
       "<Figure size 640x480 with 1 Axes>"
      ]
     },
     "metadata": {},
     "output_type": "display_data"
    }
   ],
   "source": [
    "# low-frequency tokens\n",
    "plt.title('Frequency of occurrence of words in the corpus. Low-frequency tokens')\n",
    "plt.ylabel('Frequency')\n",
    "third_part_freqs = [freq for word, freq in freq_dict_sorted[1000:]]\n",
    "plt.plot(third_part_freqs)\n",
    "plt.xlim(0, 20000)\n",
    "plt.show()"
   ]
  },
  {
   "cell_type": "code",
   "execution_count": 129,
   "id": "da6cbc9c",
   "metadata": {},
   "outputs": [],
   "source": [
    "high_freq_tokens = [word for word, freq in freq_dict_sorted[:100]]\n",
    "medium_freq_tokens  = [word for word, freq in freq_dict_sorted[100:1000]]\n",
    "low_freq_tokens = [word for word, freq in freq_dict_sorted[1000:]]"
   ]
  },
  {
   "cell_type": "code",
   "execution_count": 130,
   "id": "61367722",
   "metadata": {},
   "outputs": [
    {
     "data": {
      "text/plain": [
       "(100, 900, 350123)"
      ]
     },
     "execution_count": 130,
     "metadata": {},
     "output_type": "execute_result"
    }
   ],
   "source": [
    "len(high_freq_tokens), len(medium_freq_tokens), len(low_freq_tokens)"
   ]
  },
  {
   "cell_type": "markdown",
   "id": "2facb5b1",
   "metadata": {},
   "source": [
    "##### High frequency tokens"
   ]
  },
  {
   "cell_type": "code",
   "execution_count": 131,
   "id": "b024a5d1",
   "metadata": {},
   "outputs": [
    {
     "name": "stdout",
     "output_type": "stream",
     "text": [
      "              precision    recall  f1-score   support\n",
      "\n",
      "    negative       0.43      0.67      0.52     17630\n",
      "    positive       0.80      0.59      0.68     39079\n",
      "\n",
      "    accuracy                           0.62     56709\n",
      "   macro avg       0.61      0.63      0.60     56709\n",
      "weighted avg       0.68      0.62      0.63     56709\n",
      "\n",
      "Wall time: 2min 26s\n"
     ]
    }
   ],
   "source": [
    "%%time\n",
    "vec = CountVectorizer(ngram_range=(1, 1), tokenizer=word_tokenize, stop_words=medium_freq_tokens+low_freq_tokens)\n",
    "bow = vec.fit_transform(x_train)\n",
    "clf = LogisticRegression(random_state=42)\n",
    "clf.fit(bow, y_train)\n",
    "pred = clf.predict(vec.transform(x_test))\n",
    "print(classification_report(pred, y_test))"
   ]
  },
  {
   "cell_type": "markdown",
   "id": "57aec70c",
   "metadata": {},
   "source": [
    "##### Medium frequency tokens"
   ]
  },
  {
   "cell_type": "code",
   "execution_count": 132,
   "id": "63a0ea44",
   "metadata": {},
   "outputs": [
    {
     "name": "stdout",
     "output_type": "stream",
     "text": [
      "              precision    recall  f1-score   support\n",
      "\n",
      "    negative       0.56      0.70      0.62     22185\n",
      "    positive       0.77      0.64      0.70     34524\n",
      "\n",
      "    accuracy                           0.66     56709\n",
      "   macro avg       0.66      0.67      0.66     56709\n",
      "weighted avg       0.68      0.66      0.67     56709\n",
      "\n",
      "Wall time: 2min 22s\n"
     ]
    }
   ],
   "source": [
    "%%time\n",
    "vec = CountVectorizer(ngram_range=(1, 1), tokenizer=word_tokenize, stop_words=high_freq_tokens+low_freq_tokens)\n",
    "bow = vec.fit_transform(x_train)\n",
    "clf = LogisticRegression(random_state=42)\n",
    "clf.fit(bow, y_train)\n",
    "pred = clf.predict(vec.transform(x_test))\n",
    "print(classification_report(pred, y_test))"
   ]
  },
  {
   "cell_type": "markdown",
   "id": "8b30f6f3",
   "metadata": {},
   "source": [
    "##### Low-frequency tokens"
   ]
  },
  {
   "cell_type": "code",
   "execution_count": 133,
   "id": "2ad3ef40",
   "metadata": {},
   "outputs": [
    {
     "name": "stdout",
     "output_type": "stream",
     "text": [
      "              precision    recall  f1-score   support\n",
      "\n",
      "    negative       0.71      0.69      0.70     28642\n",
      "    positive       0.69      0.71      0.70     28067\n",
      "\n",
      "    accuracy                           0.70     56709\n",
      "   macro avg       0.70      0.70      0.70     56709\n",
      "weighted avg       0.70      0.70      0.70     56709\n",
      "\n",
      "Wall time: 1min 21s\n"
     ]
    }
   ],
   "source": [
    "%%time\n",
    "vec = CountVectorizer(ngram_range=(1, 1), tokenizer=word_tokenize, stop_words=high_freq_tokens+medium_freq_tokens)\n",
    "bow = vec.fit_transform(x_train)\n",
    "clf = LogisticRegression(random_state=42)\n",
    "clf.fit(bow, y_train)\n",
    "pred = clf.predict(vec.transform(x_test))\n",
    "print(classification_report(pred, y_test))"
   ]
  },
  {
   "cell_type": "markdown",
   "id": "7ca4aaaa",
   "metadata": {},
   "source": [
    "##### Вывод:\n",
    "Лучшие результаты достигаются на низкочастотных токенах."
   ]
  },
  {
   "cell_type": "markdown",
   "id": "b72a76d9",
   "metadata": {},
   "source": [
    "##### With punctuation (o важности эксплоративного анализа)"
   ]
  },
  {
   "cell_type": "code",
   "execution_count": 136,
   "id": "fc13def2",
   "metadata": {},
   "outputs": [],
   "source": [
    "x_train, x_test, y_train, y_test = train_test_split(df.text, df.label)"
   ]
  },
  {
   "cell_type": "code",
   "execution_count": 137,
   "id": "7567faf1",
   "metadata": {},
   "outputs": [
    {
     "name": "stdout",
     "output_type": "stream",
     "text": [
      "              precision    recall  f1-score   support\n",
      "\n",
      "    negative       1.00      1.00      1.00     28033\n",
      "    positive       1.00      1.00      1.00     28676\n",
      "\n",
      "    accuracy                           1.00     56709\n",
      "   macro avg       1.00      1.00      1.00     56709\n",
      "weighted avg       1.00      1.00      1.00     56709\n",
      "\n",
      "Wall time: 1min 5s\n"
     ]
    }
   ],
   "source": [
    "%%time\n",
    "vec = CountVectorizer(ngram_range=(1, 1), tokenizer=word_tokenize, stop_words=stopwords.words('russian'))\n",
    "bow = vec.fit_transform(x_train)\n",
    "clf = LogisticRegression(random_state=42)\n",
    "clf.fit(bow, y_train)\n",
    "pred = clf.predict(vec.transform(x_test))\n",
    "print(classification_report(pred, y_test))"
   ]
  },
  {
   "cell_type": "code",
   "execution_count": null,
   "id": "8a1c90ca",
   "metadata": {},
   "outputs": [],
   "source": []
  },
  {
   "cell_type": "markdown",
   "id": "e8c7b5b1",
   "metadata": {},
   "source": [
    "## Задание 2.\n",
    "\n",
    "найти фичи с наибольшей значимостью, и вывести их"
   ]
  },
  {
   "cell_type": "code",
   "execution_count": 150,
   "id": "804b74fe",
   "metadata": {},
   "outputs": [
    {
     "name": "stdout",
     "output_type": "stream",
     "text": [
      "4027060\n"
     ]
    },
    {
     "data": {
      "text/plain": [
       "['@',\n",
       " 'first_timee',\n",
       " 'хоть',\n",
       " 'я',\n",
       " 'и',\n",
       " 'школота',\n",
       " ',',\n",
       " 'но',\n",
       " 'поверь',\n",
       " ',',\n",
       " 'у',\n",
       " 'нас',\n",
       " 'то',\n",
       " 'же',\n",
       " 'самое',\n",
       " ':',\n",
       " 'D',\n",
       " 'общество',\n",
       " 'профилирующий',\n",
       " 'предмет',\n",
       " 'типа',\n",
       " ')',\n",
       " 'Да',\n",
       " ',',\n",
       " 'все-таки',\n",
       " 'он',\n",
       " 'немного',\n",
       " 'похож',\n",
       " 'на',\n",
       " 'него']"
      ]
     },
     "execution_count": 150,
     "metadata": {},
     "output_type": "execute_result"
    }
   ],
   "source": [
    "corpus = [token for tweet in df.text for token in word_tokenize(tweet)]\n",
    "print(len(corpus))\n",
    "corpus[:30]"
   ]
  },
  {
   "cell_type": "code",
   "execution_count": 154,
   "id": "3ae0b93e",
   "metadata": {},
   "outputs": [
    {
     "data": {
      "text/plain": [
       "[('(', 212404),\n",
       " (')', 194005),\n",
       " (',', 188295),\n",
       " (':', 177675),\n",
       " ('@', 149978),\n",
       " ('не', 69472),\n",
       " ('!', 66923),\n",
       " ('.', 57595),\n",
       " ('и', 55166),\n",
       " ('в', 52902),\n",
       " ('я', 52818),\n",
       " ('RT', 38070),\n",
       " ('?', 35955),\n",
       " ('на', 35759),\n",
       " ('http', 32998),\n",
       " ('что', 31541),\n",
       " ('с', 27217),\n",
       " ('а', 26860),\n",
       " ('...', 22363),\n",
       " ('меня', 20656),\n",
       " ('#', 19608),\n",
       " ('у', 18928),\n",
       " ('как', 18279),\n",
       " ('-', 17958),\n",
       " ('так', 16839),\n",
       " ('D', 16575),\n",
       " ('это', 16542),\n",
       " ('мне', 16337),\n",
       " ('все', 14763),\n",
       " ('ты', 13412)]"
      ]
     },
     "execution_count": 154,
     "metadata": {},
     "output_type": "execute_result"
    }
   ],
   "source": [
    "freq_dict = Counter(corpus)\n",
    "freq_dict_sorted= sorted(freq_dict.items(), key=lambda x: -x[1])\n",
    "list(freq_dict_sorted)[:30]"
   ]
  },
  {
   "cell_type": "code",
   "execution_count": 156,
   "id": "da2a4f1f",
   "metadata": {},
   "outputs": [
    {
     "data": {
      "text/plain": [
       "[('(', 212404),\n",
       " (')', 194005),\n",
       " (',', 188295),\n",
       " (':', 177675),\n",
       " ('@', 149978),\n",
       " ('не', 69472),\n",
       " ('!', 66923),\n",
       " ('.', 57595),\n",
       " ('и', 55166),\n",
       " ('в', 52902)]"
      ]
     },
     "execution_count": 156,
     "metadata": {},
     "output_type": "execute_result"
    }
   ],
   "source": [
    "cool_token = freq_dict_sorted[:10]\n",
    "cool_token"
   ]
  },
  {
   "cell_type": "markdown",
   "id": "8f8b7165",
   "metadata": {},
   "source": [
    "Посмотрим, как один из супер-значительных токенов справится с классификацией безо всякого машинного обучения:"
   ]
  },
  {
   "cell_type": "code",
   "execution_count": 157,
   "id": "cd1cd6cd",
   "metadata": {},
   "outputs": [
    {
     "name": "stdout",
     "output_type": "stream",
     "text": [
      "              precision    recall  f1-score   support\n",
      "\n",
      "    negative       1.00      0.85      0.92     32894\n",
      "    positive       0.83      1.00      0.91     23815\n",
      "\n",
      "    accuracy                           0.91     56709\n",
      "   macro avg       0.92      0.93      0.91     56709\n",
      "weighted avg       0.93      0.91      0.91     56709\n",
      "\n"
     ]
    }
   ],
   "source": [
    "cool_token = freq_dict_sorted[1][0]\n",
    "pred = ['positive' if cool_token in tweet else 'negative' for tweet in x_test]\n",
    "print(classification_report(pred, y_test))"
   ]
  },
  {
   "cell_type": "markdown",
   "id": "8438cbff",
   "metadata": {},
   "source": [
    "## Задание 3.\n",
    "\n",
    "1) сравнить count/tf-idf/hashing векторайзеры/полносвязанную сетку (построить classification_report)\n",
    "\n",
    "2) подобрать оптимальный размер для hashing векторайзера \n",
    "\n",
    "3) убедиться что для сетки нет переобучения"
   ]
  },
  {
   "cell_type": "code",
   "execution_count": 158,
   "id": "aee380b7",
   "metadata": {},
   "outputs": [],
   "source": [
    "x_train, x_test, y_train, y_test = train_test_split(df.text_pre, df.label)"
   ]
  },
  {
   "cell_type": "code",
   "execution_count": 161,
   "id": "095d8a7a",
   "metadata": {},
   "outputs": [],
   "source": [
    "corpus = [token for tweet in df.text_pre for token in word_tokenize(tweet) if token not in punctuation]"
   ]
  },
  {
   "cell_type": "code",
   "execution_count": 162,
   "id": "6b1a3d1a",
   "metadata": {},
   "outputs": [],
   "source": [
    "freq_dict = Counter(corpus)\n",
    "freq_dict_sorted= sorted(freq_dict.items(), key=lambda x: -x[1])"
   ]
  },
  {
   "cell_type": "code",
   "execution_count": 163,
   "id": "5360c13a",
   "metadata": {},
   "outputs": [],
   "source": [
    "high_freq_tokens = [word for word, freq in freq_dict_sorted[:100]]\n",
    "medium_freq_tokens  = [word for word, freq in freq_dict_sorted[100:1000]]\n",
    "low_freq_tokens = [word for word, freq in freq_dict_sorted[1000:]]"
   ]
  },
  {
   "cell_type": "code",
   "execution_count": 164,
   "id": "0b57b637",
   "metadata": {},
   "outputs": [
    {
     "name": "stdout",
     "output_type": "stream",
     "text": [
      "              precision    recall  f1-score   support\n",
      "\n",
      "    negative       0.71      0.64      0.67     31210\n",
      "    positive       0.60      0.68      0.64     25499\n",
      "\n",
      "    accuracy                           0.66     56709\n",
      "   macro avg       0.66      0.66      0.66     56709\n",
      "weighted avg       0.66      0.66      0.66     56709\n",
      "\n",
      "Wall time: 33.6 s\n"
     ]
    }
   ],
   "source": [
    "%%time\n",
    "vec = CountVectorizer(ngram_range=(1, 1), tokenizer=word_tokenize, stop_words=high_freq_tokens+medium_freq_tokens)\n",
    "bow = vec.fit_transform(x_train)\n",
    "clf = LogisticRegression(random_state=42)\n",
    "clf.fit(bow, y_train)\n",
    "pred = clf.predict(vec.transform(x_test))\n",
    "print(classification_report(pred, y_test))"
   ]
  },
  {
   "cell_type": "code",
   "execution_count": 167,
   "id": "d2053402",
   "metadata": {},
   "outputs": [
    {
     "name": "stdout",
     "output_type": "stream",
     "text": [
      "              precision    recall  f1-score   support\n",
      "\n",
      "    negative       0.70      0.64      0.67     30405\n",
      "    positive       0.62      0.68      0.65     26304\n",
      "\n",
      "    accuracy                           0.66     56709\n",
      "   macro avg       0.66      0.66      0.66     56709\n",
      "weighted avg       0.66      0.66      0.66     56709\n",
      "\n",
      "Wall time: 32.2 s\n"
     ]
    }
   ],
   "source": [
    "%%time\n",
    "vec = TfidfVectorizer(ngram_range=(1, 1), tokenizer=word_tokenize, stop_words=high_freq_tokens+medium_freq_tokens)\n",
    "bow = vec.fit_transform(x_train)\n",
    "clf = LogisticRegression(random_state=42)\n",
    "clf.fit(bow, y_train)\n",
    "pred = clf.predict(vec.transform(x_test))\n",
    "print(classification_report(pred, y_test))"
   ]
  },
  {
   "cell_type": "code",
   "execution_count": 189,
   "id": "7dd00dc1",
   "metadata": {},
   "outputs": [
    {
     "name": "stdout",
     "output_type": "stream",
     "text": [
      "n_features = 1000\n",
      "               precision    recall  f1-score   support\n",
      "\n",
      "    negative       0.47      0.55      0.51     24070\n",
      "    positive       0.62      0.55      0.58     32639\n",
      "\n",
      "    accuracy                           0.55     56709\n",
      "   macro avg       0.55      0.55      0.54     56709\n",
      "weighted avg       0.56      0.55      0.55     56709\n",
      "\n",
      "n_features = 2000\n",
      "               precision    recall  f1-score   support\n",
      "\n",
      "    negative       0.49      0.57      0.53     24326\n",
      "    positive       0.63      0.56      0.60     32383\n",
      "\n",
      "    accuracy                           0.57     56709\n",
      "   macro avg       0.56      0.57      0.56     56709\n",
      "weighted avg       0.57      0.57      0.57     56709\n",
      "\n",
      "n_features = 3000\n",
      "               precision    recall  f1-score   support\n",
      "\n",
      "    negative       0.50      0.57      0.54     24425\n",
      "    positive       0.64      0.57      0.60     32284\n",
      "\n",
      "    accuracy                           0.57     56709\n",
      "   macro avg       0.57      0.57      0.57     56709\n",
      "weighted avg       0.58      0.57      0.57     56709\n",
      "\n",
      "n_features = 4000\n",
      "               precision    recall  f1-score   support\n",
      "\n",
      "    negative       0.52      0.59      0.55     24544\n",
      "    positive       0.65      0.58      0.61     32165\n",
      "\n",
      "    accuracy                           0.58     56709\n",
      "   macro avg       0.58      0.58      0.58     56709\n",
      "weighted avg       0.59      0.58      0.58     56709\n",
      "\n",
      "n_features = 5000\n",
      "               precision    recall  f1-score   support\n",
      "\n",
      "    negative       0.63      0.59      0.61     30074\n",
      "    positive       0.57      0.61      0.59     26635\n",
      "\n",
      "    accuracy                           0.60     56709\n",
      "   macro avg       0.60      0.60      0.60     56709\n",
      "weighted avg       0.60      0.60      0.60     56709\n",
      "\n",
      "n_features = 6000\n",
      "               precision    recall  f1-score   support\n",
      "\n",
      "    negative       0.63      0.59      0.61     30144\n",
      "    positive       0.57      0.62      0.59     26565\n",
      "\n",
      "    accuracy                           0.60     56709\n",
      "   macro avg       0.60      0.60      0.60     56709\n",
      "weighted avg       0.60      0.60      0.60     56709\n",
      "\n",
      "n_features = 7000\n",
      "               precision    recall  f1-score   support\n",
      "\n",
      "    negative       0.64      0.59      0.61     30066\n",
      "    positive       0.57      0.62      0.60     26643\n",
      "\n",
      "    accuracy                           0.60     56709\n",
      "   macro avg       0.61      0.61      0.60     56709\n",
      "weighted avg       0.61      0.60      0.61     56709\n",
      "\n",
      "n_features = 8000\n",
      "               precision    recall  f1-score   support\n",
      "\n",
      "    negative       0.64      0.60      0.62     30116\n",
      "    positive       0.58      0.62      0.60     26593\n",
      "\n",
      "    accuracy                           0.61     56709\n",
      "   macro avg       0.61      0.61      0.61     56709\n",
      "weighted avg       0.61      0.61      0.61     56709\n",
      "\n",
      "n_features = 9000\n",
      "               precision    recall  f1-score   support\n",
      "\n",
      "    negative       0.64      0.59      0.62     30023\n",
      "    positive       0.58      0.62      0.60     26686\n",
      "\n",
      "    accuracy                           0.61     56709\n",
      "   macro avg       0.61      0.61      0.61     56709\n",
      "weighted avg       0.61      0.61      0.61     56709\n",
      "\n",
      "n_features = 10000\n",
      "               precision    recall  f1-score   support\n",
      "\n",
      "    negative       0.64      0.60      0.62     30036\n",
      "    positive       0.58      0.63      0.60     26673\n",
      "\n",
      "    accuracy                           0.61     56709\n",
      "   macro avg       0.61      0.61      0.61     56709\n",
      "weighted avg       0.62      0.61      0.61     56709\n",
      "\n",
      "n_features = 11000\n",
      "               precision    recall  f1-score   support\n",
      "\n",
      "    negative       0.65      0.60      0.62     30133\n",
      "    positive       0.58      0.63      0.60     26576\n",
      "\n",
      "    accuracy                           0.61     56709\n",
      "   macro avg       0.61      0.61      0.61     56709\n",
      "weighted avg       0.62      0.61      0.61     56709\n",
      "\n",
      "n_features = 12000\n",
      "               precision    recall  f1-score   support\n",
      "\n",
      "    negative       0.65      0.60      0.63     30114\n",
      "    positive       0.58      0.63      0.61     26595\n",
      "\n",
      "    accuracy                           0.62     56709\n",
      "   macro avg       0.62      0.62      0.62     56709\n",
      "weighted avg       0.62      0.62      0.62     56709\n",
      "\n",
      "n_features = 13000\n",
      "               precision    recall  f1-score   support\n",
      "\n",
      "    negative       0.65      0.60      0.63     30199\n",
      "    positive       0.58      0.63      0.61     26510\n",
      "\n",
      "    accuracy                           0.62     56709\n",
      "   macro avg       0.62      0.62      0.62     56709\n",
      "weighted avg       0.62      0.62      0.62     56709\n",
      "\n",
      "n_features = 14000\n",
      "               precision    recall  f1-score   support\n",
      "\n",
      "    negative       0.65      0.61      0.63     29942\n",
      "    positive       0.59      0.63      0.61     26767\n",
      "\n",
      "    accuracy                           0.62     56709\n",
      "   macro avg       0.62      0.62      0.62     56709\n",
      "weighted avg       0.62      0.62      0.62     56709\n",
      "\n",
      "n_features = 15000\n",
      "               precision    recall  f1-score   support\n",
      "\n",
      "    negative       0.65      0.61      0.63     30152\n",
      "    positive       0.59      0.63      0.61     26557\n",
      "\n",
      "    accuracy                           0.62     56709\n",
      "   macro avg       0.62      0.62      0.62     56709\n",
      "weighted avg       0.62      0.62      0.62     56709\n",
      "\n",
      "n_features = 16000\n",
      "               precision    recall  f1-score   support\n",
      "\n",
      "    negative       0.66      0.61      0.63     30078\n",
      "    positive       0.59      0.64      0.61     26631\n",
      "\n",
      "    accuracy                           0.62     56709\n",
      "   macro avg       0.62      0.62      0.62     56709\n",
      "weighted avg       0.63      0.62      0.62     56709\n",
      "\n",
      "n_features = 17000\n",
      "               precision    recall  f1-score   support\n",
      "\n",
      "    negative       0.66      0.61      0.63     30082\n",
      "    positive       0.59      0.64      0.62     26627\n",
      "\n",
      "    accuracy                           0.62     56709\n",
      "   macro avg       0.62      0.63      0.62     56709\n",
      "weighted avg       0.63      0.62      0.62     56709\n",
      "\n",
      "n_features = 18000\n",
      "               precision    recall  f1-score   support\n",
      "\n",
      "    negative       0.66      0.61      0.63     30142\n",
      "    positive       0.59      0.64      0.61     26567\n",
      "\n",
      "    accuracy                           0.62     56709\n",
      "   macro avg       0.62      0.62      0.62     56709\n",
      "weighted avg       0.62      0.62      0.62     56709\n",
      "\n",
      "n_features = 19000\n",
      "               precision    recall  f1-score   support\n",
      "\n",
      "    negative       0.66      0.61      0.63     30095\n",
      "    positive       0.59      0.64      0.61     26614\n",
      "\n",
      "    accuracy                           0.62     56709\n",
      "   macro avg       0.62      0.62      0.62     56709\n",
      "weighted avg       0.63      0.62      0.62     56709\n",
      "\n",
      "Wall time: 10min 12s\n"
     ]
    }
   ],
   "source": [
    "%%time\n",
    "for n_features in range(1000, 20000, 1000):\n",
    "    vec = HashingVectorizer(ngram_range=(1, 1), tokenizer=word_tokenize, \n",
    "                            stop_words=high_freq_tokens+medium_freq_tokens, \n",
    "                            n_features=n_features)\n",
    "    bow = vec.fit_transform(x_train)\n",
    "    clf = LogisticRegression(random_state=42)\n",
    "    clf.fit(bow, y_train)\n",
    "    pred = clf.predict(vec.transform(x_test))\n",
    "    print(f'n_features = {n_features}\\n {classification_report(pred, y_test)}')"
   ]
  },
  {
   "cell_type": "code",
   "execution_count": 190,
   "id": "cccda8b1",
   "metadata": {},
   "outputs": [
    {
     "name": "stdout",
     "output_type": "stream",
     "text": [
      "n_features = 19000\n",
      "               precision    recall  f1-score   support\n",
      "\n",
      "    negative       0.66      0.61      0.63     30082\n",
      "    positive       0.59      0.64      0.62     26627\n",
      "\n",
      "    accuracy                           0.62     56709\n",
      "   macro avg       0.62      0.63      0.62     56709\n",
      "weighted avg       0.63      0.62      0.62     56709\n",
      "\n",
      "Wall time: 29.6 s\n"
     ]
    }
   ],
   "source": [
    "%%time\n",
    "vec = HashingVectorizer(ngram_range=(1, 1), tokenizer=word_tokenize, \n",
    "                        stop_words=high_freq_tokens+medium_freq_tokens, \n",
    "                        n_features=17000)\n",
    "bow = vec.fit_transform(x_train)\n",
    "clf = LogisticRegression(random_state=42)\n",
    "clf.fit(bow, y_train)\n",
    "pred = clf.predict(vec.transform(x_test))\n",
    "print(f'n_features = 17000\\n {classification_report(pred, y_test)}')"
   ]
  },
  {
   "cell_type": "code",
   "execution_count": 206,
   "id": "b43893c0",
   "metadata": {},
   "outputs": [
    {
     "data": {
      "text/plain": [
       "True"
      ]
     },
     "execution_count": 206,
     "metadata": {},
     "output_type": "execute_result"
    }
   ],
   "source": [
    "torch.cuda.is_available()"
   ]
  },
  {
   "cell_type": "code",
   "execution_count": 207,
   "id": "24e90763",
   "metadata": {},
   "outputs": [
    {
     "data": {
      "text/plain": [
       "device(type='cuda', index=0)"
      ]
     },
     "execution_count": 207,
     "metadata": {},
     "output_type": "execute_result"
    }
   ],
   "source": [
    "device = torch.device('cuda:0' if torch.cuda.is_available() else 'cpu')\n",
    "device"
   ]
  },
  {
   "cell_type": "code",
   "execution_count": 208,
   "id": "d21f4777",
   "metadata": {},
   "outputs": [],
   "source": [
    "class GRUFixedLen(nn.Module) :\n",
    "    def __init__(self, vocab_size, embedding_dim=128, hidden_dim=128, use_last=True):\n",
    "        super().__init__()\n",
    "        self.use_last = use_last\n",
    "        self.embeddings = nn.Embedding(vocab_size, embedding_dim, padding_idx=0)\n",
    "        self.gru = nn.GRU(embedding_dim, hidden_dim, num_layers=2, batch_first=True, )\n",
    "        self.linear = nn.Linear(hidden_dim, 1)\n",
    "        self.dropout = nn.Dropout(0.2)\n",
    "        \n",
    "    def forward(self, x):\n",
    "        x = self.embeddings(x)\n",
    "        x = self.dropout(x)\n",
    "        gru_out, ht = self.gru(x)\n",
    "       \n",
    "        if self.use_last:\n",
    "            last_tensor = gru_out[:,-1,:]\n",
    "        else:\n",
    "            # use mean\n",
    "            last_tensor = torch.mean(gru_out[:,:], dim=1)\n",
    "    \n",
    "        out = self.linear(last_tensor)\n",
    "        return torch.sigmoid(out)"
   ]
  },
  {
   "cell_type": "code",
   "execution_count": 209,
   "id": "af445556",
   "metadata": {},
   "outputs": [],
   "source": [
    "class DataWrapper(Dataset):\n",
    "    def __init__(self, data, target=None, transform=None):\n",
    "        self.data = torch.from_numpy(data).long()\n",
    "        if target is not None:\n",
    "            self.target = torch.from_numpy(target).long()\n",
    "        self.transform = transform\n",
    "        \n",
    "    def __getitem__(self, index):\n",
    "        x = self.data[index]\n",
    "        y = self.target[index] if self.target is not None else None\n",
    "        \n",
    "        if self.transform:\n",
    "            x = self.transform(x)\n",
    "            \n",
    "        return x, y\n",
    "    \n",
    "    def __len__(self):\n",
    "        return len(self.data)"
   ]
  },
  {
   "cell_type": "code",
   "execution_count": 294,
   "id": "f187b781",
   "metadata": {},
   "outputs": [],
   "source": [
    "#Training\n",
    "epochs = 10\n",
    "batch_size = 512\n",
    "print_batch_n = 100\n",
    "max_len = 10\n",
    "max_words = 2000"
   ]
  },
  {
   "cell_type": "code",
   "execution_count": 281,
   "id": "0f9732db",
   "metadata": {},
   "outputs": [],
   "source": [
    "train, test = train_test_split(df, test_size=0.2)"
   ]
  },
  {
   "cell_type": "code",
   "execution_count": 282,
   "id": "203a8c19",
   "metadata": {},
   "outputs": [
    {
     "data": {
      "text/plain": [
       "181467"
      ]
     },
     "execution_count": 282,
     "metadata": {},
     "output_type": "execute_result"
    }
   ],
   "source": [
    "len(train)"
   ]
  },
  {
   "cell_type": "code",
   "execution_count": 283,
   "id": "12cf8bd8",
   "metadata": {},
   "outputs": [],
   "source": [
    "train = train.sample(frac=.02)\n",
    "test = test.sample(frac=.02)"
   ]
  },
  {
   "cell_type": "code",
   "execution_count": 285,
   "id": "9b2e4328",
   "metadata": {},
   "outputs": [
    {
     "data": {
      "text/plain": [
       "(3629, 907)"
      ]
     },
     "execution_count": 285,
     "metadata": {},
     "output_type": "execute_result"
    }
   ],
   "source": [
    "len(train), len(test)"
   ]
  },
  {
   "cell_type": "code",
   "execution_count": 286,
   "id": "2ce9c5b5",
   "metadata": {},
   "outputs": [],
   "source": [
    "def text_to_sequence(text, maxlen):\n",
    "    result = []\n",
    "    for word in text:\n",
    "        if word in freq_dict_sorted:\n",
    "            result.append(freq_dict_sorted[word])\n",
    "    padding = [0] * (maxlen - len(result))\n",
    "    return result[-maxlen:] + padding"
   ]
  },
  {
   "cell_type": "code",
   "execution_count": 287,
   "id": "dbdc488f",
   "metadata": {},
   "outputs": [
    {
     "name": "stderr",
     "output_type": "stream",
     "text": [
      "100%|██████████████████████████████████████████████████████████████████████████████| 3629/3629 [15:41<00:00,  3.85it/s]\n",
      "100%|████████████████████████████████████████████████████████████████████████████████| 907/907 [03:39<00:00,  4.12it/s]"
     ]
    },
    {
     "name": "stdout",
     "output_type": "stream",
     "text": [
      "Wall time: 19min 21s\n"
     ]
    },
    {
     "name": "stderr",
     "output_type": "stream",
     "text": [
      "\n"
     ]
    }
   ],
   "source": [
    "%%time\n",
    "x_train = np.asarray([text_to_sequence(text, max_len) for text in tqdm(train['text_pre'])])\n",
    "x_test = np.asarray([text_to_sequence(text, max_len) for text in tqdm(test['text_pre'])])"
   ]
  },
  {
   "cell_type": "code",
   "execution_count": 288,
   "id": "c9b635c5",
   "metadata": {},
   "outputs": [
    {
     "name": "stderr",
     "output_type": "stream",
     "text": [
      "100%|████████████████████████████████████████████████████████████████████████████| 3629/3629 [00:02<00:00, 1373.44it/s]\n"
     ]
    }
   ],
   "source": [
    "for lab in tqdm(train['label']):\n",
    "    if lab == 'positive':\n",
    "        df['label_num'] = 0\n",
    "    else:\n",
    "        df['label_num'] = 1"
   ]
  },
  {
   "cell_type": "code",
   "execution_count": 289,
   "id": "6c848069",
   "metadata": {},
   "outputs": [
    {
     "name": "stderr",
     "output_type": "stream",
     "text": [
      "100%|██████████████████████████████████████████████████████████████████████████████| 907/907 [00:00<00:00, 1332.74it/s]\n"
     ]
    }
   ],
   "source": [
    "for lab in tqdm(test['label']):\n",
    "    if lab == 'positive':\n",
    "        df['label_num'] = 0\n",
    "    else:\n",
    "        df['label_num'] = 1"
   ]
  },
  {
   "cell_type": "code",
   "execution_count": 291,
   "id": "7b189526",
   "metadata": {},
   "outputs": [],
   "source": [
    "train_dataset = DataWrapper(x_train, train['label_num'].values)\n",
    "train_loader = DataLoader(train_dataset, batch_size=batch_size, shuffle=True)\n",
    "\n",
    "val_dataset = DataWrapper(x_test, test['label_num'].values)\n",
    "val_loader = DataLoader(val_dataset, batch_size=8, shuffle=True)"
   ]
  },
  {
   "cell_type": "code",
   "execution_count": 292,
   "id": "4d3fe809",
   "metadata": {},
   "outputs": [
    {
     "name": "stdout",
     "output_type": "stream",
     "text": [
      "torch.Size([512, 10])\n",
      "torch.Size([512])\n",
      "tensor(1)\n"
     ]
    }
   ],
   "source": [
    "for x, l in train_loader:\n",
    "    print(x.shape)\n",
    "    print(l.shape)\n",
    "    print(l[0])\n",
    "    break"
   ]
  },
  {
   "cell_type": "code",
   "execution_count": 295,
   "id": "6f07f60e",
   "metadata": {},
   "outputs": [],
   "source": [
    "gru_init = GRUFixedLen(max_words, 128, max_len, use_last=False)\n",
    "optimizer = torch.optim.Adam(gru_init.parameters(), lr=0.001)\n",
    "criterion = nn.BCELoss()"
   ]
  },
  {
   "cell_type": "code",
   "execution_count": 296,
   "id": "30e9f8fd",
   "metadata": {},
   "outputs": [
    {
     "name": "stdout",
     "output_type": "stream",
     "text": [
      "GRUFixedLen(\n",
      "  (embeddings): Embedding(2000, 128, padding_idx=0)\n",
      "  (gru): GRU(128, 10, num_layers=2, batch_first=True)\n",
      "  (linear): Linear(in_features=10, out_features=1, bias=True)\n",
      "  (dropout): Dropout(p=0.2, inplace=False)\n",
      ")\n",
      "Parameters: 260871\n"
     ]
    }
   ],
   "source": [
    "print(gru_init)\n",
    "print(\"Parameters:\", sum([param.nelement() for param in gru_init.parameters()]))"
   ]
  },
  {
   "cell_type": "code",
   "execution_count": 297,
   "id": "e096a8bf",
   "metadata": {},
   "outputs": [
    {
     "name": "stdout",
     "output_type": "stream",
     "text": [
      "Epoch [1/10]. Step [8/8]. Loss: 0.603. Acc: 1.000. Test loss: 0.599. Test acc: 1.000\n",
      "Epoch [2/10]. Step [8/8]. Loss: 0.565. Acc: 1.000. Test loss: 0.560. Test acc: 1.000\n",
      "Epoch [3/10]. Step [8/8]. Loss: 0.524. Acc: 1.000. Test loss: 0.519. Test acc: 1.000\n",
      "Epoch [4/10]. Step [8/8]. Loss: 0.480. Acc: 1.000. Test loss: 0.474. Test acc: 1.000\n",
      "Epoch [5/10]. Step [8/8]. Loss: 0.431. Acc: 1.000. Test loss: 0.424. Test acc: 1.000\n",
      "Epoch [6/10]. Step [8/8]. Loss: 0.377. Acc: 1.000. Test loss: 0.370. Test acc: 1.000\n",
      "Epoch [7/10]. Step [8/8]. Loss: 0.322. Acc: 1.000. Test loss: 0.315. Test acc: 1.000\n",
      "Epoch [8/10]. Step [8/8]. Loss: 0.269. Acc: 1.000. Test loss: 0.262. Test acc: 1.000\n",
      "Epoch [9/10]. Step [8/8]. Loss: 0.221. Acc: 1.000. Test loss: 0.216. Test acc: 1.000\n",
      "Epoch [10/10]. Step [8/8]. Loss: 0.182. Acc: 1.000. Test loss: 0.178. Test acc: 1.000\n",
      "Training is finished!\n"
     ]
    }
   ],
   "source": [
    "gru_init = gru_init.to(device)\n",
    "gru_init.train()\n",
    "th = 0.5\n",
    "\n",
    "train_loss_history = []\n",
    "test_loss_history = []\n",
    "train_acc_history =[]\n",
    "val_acc_history = []\n",
    "\n",
    "\n",
    "for epoch in range(epochs): \n",
    "    gru_init.train() \n",
    "    running_items, running_right = 0.0, 0.0\n",
    "    for i, data in enumerate(train_loader, 0):\n",
    "        inputs, labels = data[0].to(device), data[1].to(device)\n",
    "\n",
    "        # обнуляем градиент\n",
    "        optimizer.zero_grad()\n",
    "        outputs = gru_init(inputs)\n",
    "        \n",
    "        loss = criterion(outputs, labels.float().view(-1, 1))\n",
    "        loss.backward()\n",
    "        optimizer.step()\n",
    "\n",
    "        # подсчет ошибки на обучении\n",
    "        loss = loss.item()\n",
    "        running_items += len(labels)\n",
    "        # подсчет метрики на обучении\n",
    "        pred_labels = torch.squeeze((outputs > th).int())\n",
    "        running_right += (labels == pred_labels).sum()\n",
    "        \n",
    "    # выводим статистику о процессе обучения\n",
    "    gru_init.eval()\n",
    "    \n",
    "    print(f'Epoch [{epoch + 1}/{epochs}]. ' \\\n",
    "          f'Step [{i + 1}/{len(train_loader)}]. ' \\\n",
    "          f'Loss: {loss:.3f}. ' \\\n",
    "          f'Acc: {running_right / running_items:.3f}', end='. ')\n",
    "    train_acc_history.append(running_right / running_items)\n",
    "    running_loss, running_items, running_right = 0.0, 0.0, 0.0\n",
    "    train_loss_history.append(loss)\n",
    "\n",
    "    # выводим статистику на тестовых данных\n",
    "    test_running_right, test_running_total, test_loss = 0.0, 0.0, 0.0\n",
    "    for j, data in enumerate(val_loader):\n",
    "        test_labels = data[1].to(device)\n",
    "        test_outputs = gru_init(data[0].to(device))\n",
    "        \n",
    "        # подсчет ошибки на тесте\n",
    "        test_loss = criterion(test_outputs, test_labels.float().view(-1, 1))\n",
    "        # подсчет метрики на тесте\n",
    "        test_running_total += len(data[1])\n",
    "        pred_test_labels = torch.squeeze((test_outputs > th).int())\n",
    "        test_running_right += (test_labels == pred_test_labels).sum()\n",
    "    \n",
    "    test_loss_history.append(test_loss.item())\n",
    "    print(f'Test loss: {test_loss:.3f}. Test acc: {test_running_right / test_running_total:.3f}')\n",
    "    val_acc_history.append(test_running_right / test_running_total)\n",
    "            \n",
    "print('Training is finished!')"
   ]
  },
  {
   "cell_type": "code",
   "execution_count": 298,
   "id": "eb21e37d",
   "metadata": {},
   "outputs": [
    {
     "data": {
      "image/png": "[encoded data removed]",
      "text/plain": [
       "<Figure size 640x480 with 1 Axes>"
      ]
     },
     "metadata": {},
     "output_type": "display_data"
    }
   ],
   "source": [
    "plt.title('Loss history')\n",
    "plt.grid(True)\n",
    "plt.ylabel('Loss')\n",
    "plt.xlabel('Epoch')\n",
    "plt.plot(train_loss_history, label='train')\n",
    "plt.plot(test_loss_history, label='val')\n",
    "plt.legend();"
   ]
  },
  {
   "cell_type": "code",
   "execution_count": 299,
   "id": "54f1e19b",
   "metadata": {},
   "outputs": [
    {
     "data": {
      "image/png": "[encoded data removed]",
      "text/plain": [
       "<Figure size 640x480 with 1 Axes>"
      ]
     },
     "metadata": {},
     "output_type": "display_data"
    }
   ],
   "source": [
    "plt.title('Accuracy history')\n",
    "plt.grid(True)\n",
    "plt.ylabel('Accuracy')\n",
    "plt.xlabel('Epoch')\n",
    "plt.plot(torch.stack(train_acc_history).cpu(), label='train')\n",
    "plt.plot(torch.stack(val_acc_history).cpu(), label='val')\n",
    "plt.legend();"
   ]
  },
  {
   "cell_type": "code",
   "execution_count": null,
   "id": "75e1e425",
   "metadata": {},
   "outputs": [],
   "source": []
  }
 ],
 "metadata": {
  "kernelspec": {
   "display_name": "Python 3 (ipykernel)",
   "language": "python",
   "name": "python3"
  },
  "language_info": {
   "codemirror_mode": {
    "name": "ipython",
    "version": 3
   },
   "file_extension": ".py",
   "mimetype": "text/x-python",
   "name": "python",
   "nbconvert_exporter": "python",
   "pygments_lexer": "ipython3",
   "version": "3.9.13"
  }
 },
 "nbformat": 4,
 "nbformat_minor": 5
}
