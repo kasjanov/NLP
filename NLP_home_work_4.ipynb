{
 "cells": [
  {
   "cell_type": "code",
   "execution_count": 41,
   "id": "aDeCHaKDXxYs",
   "metadata": {
    "executionInfo": {
     "elapsed": 2549,
     "status": "ok",
     "timestamp": 1674327935822,
     "user": {
      "displayName": "Maxim Gasilin",
      "userId": "15501735730920561422"
     },
     "user_tz": -180
    },
    "id": "aDeCHaKDXxYs"
   },
   "outputs": [],
   "source": [
    "import import_ipynb\n",
    "import matplotlib.pyplot as plt\n",
    "import NLP_preprocessing as pre\n",
    "import numpy as np\n",
    "import re\n",
    "import pandas as pd\n",
    "import pyLDAvis\n",
    "import pyLDAvis.gensim as gensimvis\n",
    "\n",
    "from gensim import corpora\n",
    "from gensim.models import *\n",
    "from pymorphy2 import MorphAnalyzer\n",
    "from stop_words import get_stop_words\n",
    "from tqdm import tqdm"
   ]
  },
  {
   "cell_type": "code",
   "execution_count": 2,
   "id": "S5pj6VHQWVhr",
   "metadata": {
    "executionInfo": {
     "elapsed": 5,
     "status": "ok",
     "timestamp": 1674327935823,
     "user": {
      "displayName": "Maxim Gasilin",
      "userId": "15501735730920561422"
     },
     "user_tz": -180
    },
    "id": "S5pj6VHQWVhr"
   },
   "outputs": [],
   "source": [
    "%matplotlib inline"
   ]
  },
  {
   "cell_type": "code",
   "execution_count": 65,
   "id": "d334ba04",
   "metadata": {},
   "outputs": [],
   "source": [
    "positive = pd.read_csv('positive.csv', sep = ';', usecols = [3], names = ['text'])\n",
    "positive['label'] = ['positive'] * len(positive)\n",
    "\n",
    "negative = pd.read_csv('negative.csv', sep = ';', usecols = [3], names = ['text'])\n",
    "negative['label'] = ['negative'] * len(negative)"
   ]
  },
  {
   "cell_type": "code",
   "execution_count": 66,
   "id": "5cec6339",
   "metadata": {
    "colab": {
     "base_uri": "https://localhost:8080/",
     "height": 206
    },
    "executionInfo": {
     "elapsed": 10,
     "status": "ok",
     "timestamp": 1674328097915,
     "user": {
      "displayName": "Maxim Gasilin",
      "userId": "15501735730920561422"
     },
     "user_tz": -180
    },
    "id": "5cec6339",
    "outputId": "b3ce58b8-8990-4019-bc24-a87c0f174a66"
   },
   "outputs": [
    {
     "data": {
      "text/html": [
       "<div>\n",
       "<style scoped>\n",
       "    .dataframe tbody tr th:only-of-type {\n",
       "        vertical-align: middle;\n",
       "    }\n",
       "\n",
       "    .dataframe tbody tr th {\n",
       "        vertical-align: top;\n",
       "    }\n",
       "\n",
       "    .dataframe thead th {\n",
       "        text-align: right;\n",
       "    }\n",
       "</style>\n",
       "<table border=\"1\" class=\"dataframe\">\n",
       "  <thead>\n",
       "    <tr style=\"text-align: right;\">\n",
       "      <th></th>\n",
       "      <th>text</th>\n",
       "      <th>label</th>\n",
       "    </tr>\n",
       "  </thead>\n",
       "  <tbody>\n",
       "    <tr>\n",
       "      <th>0</th>\n",
       "      <td>@first_timee хоть я и школота, но поверь, у на...</td>\n",
       "      <td>positive</td>\n",
       "    </tr>\n",
       "    <tr>\n",
       "      <th>1</th>\n",
       "      <td>Да, все-таки он немного похож на него. Но мой ...</td>\n",
       "      <td>positive</td>\n",
       "    </tr>\n",
       "    <tr>\n",
       "      <th>2</th>\n",
       "      <td>RT @KatiaCheh: Ну ты идиотка) я испугалась за ...</td>\n",
       "      <td>positive</td>\n",
       "    </tr>\n",
       "    <tr>\n",
       "      <th>3</th>\n",
       "      <td>RT @digger2912: \"Кто то в углу сидит и погибае...</td>\n",
       "      <td>positive</td>\n",
       "    </tr>\n",
       "    <tr>\n",
       "      <th>4</th>\n",
       "      <td>@irina_dyshkant Вот что значит страшилка :D\\nН...</td>\n",
       "      <td>positive</td>\n",
       "    </tr>\n",
       "  </tbody>\n",
       "</table>\n",
       "</div>"
      ],
      "text/plain": [
       "                                                text     label\n",
       "0  @first_timee хоть я и школота, но поверь, у на...  positive\n",
       "1  Да, все-таки он немного похож на него. Но мой ...  positive\n",
       "2  RT @KatiaCheh: Ну ты идиотка) я испугалась за ...  positive\n",
       "3  RT @digger2912: \"Кто то в углу сидит и погибае...  positive\n",
       "4  @irina_dyshkant Вот что значит страшилка :D\\nН...  positive"
      ]
     },
     "execution_count": 66,
     "metadata": {},
     "output_type": "execute_result"
    }
   ],
   "source": [
    "df = pd.concat([positive, negative], ignore_index = True)\n",
    "df.head()"
   ]
  },
  {
   "cell_type": "code",
   "execution_count": 67,
   "id": "201f7ca3",
   "metadata": {
    "colab": {
     "base_uri": "https://localhost:8080/"
    },
    "executionInfo": {
     "elapsed": 5,
     "status": "ok",
     "timestamp": 1674328099813,
     "user": {
      "displayName": "Maxim Gasilin",
      "userId": "15501735730920561422"
     },
     "user_tz": -180
    },
    "id": "201f7ca3",
    "outputId": "75f068b2-2dec-45fd-9771-8fb34d6d58e8"
   },
   "outputs": [
    {
     "name": "stdout",
     "output_type": "stream",
     "text": [
      "<class 'pandas.core.frame.DataFrame'>\n",
      "RangeIndex: 226834 entries, 0 to 226833\n",
      "Data columns (total 2 columns):\n",
      " #   Column  Non-Null Count   Dtype \n",
      "---  ------  --------------   ----- \n",
      " 0   text    226834 non-null  object\n",
      " 1   label   226834 non-null  object\n",
      "dtypes: object(2)\n",
      "memory usage: 3.5+ MB\n"
     ]
    }
   ],
   "source": [
    "df.info()"
   ]
  },
  {
   "cell_type": "code",
   "execution_count": 68,
   "id": "ab126c85",
   "metadata": {
    "colab": {
     "base_uri": "https://localhost:8080/",
     "height": 206
    },
    "executionInfo": {
     "elapsed": 305147,
     "status": "ok",
     "timestamp": 1674328415970,
     "user": {
      "displayName": "Maxim Gasilin",
      "userId": "15501735730920561422"
     },
     "user_tz": -180
    },
    "id": "ab126c85",
    "outputId": "7f6f7fde-a8d6-49f7-ddbf-c9d6789ec913"
   },
   "outputs": [
    {
     "name": "stderr",
     "output_type": "stream",
     "text": [
      "100%|█████████████████████████████████████████████████████████████████████████| 226834/226834 [05:07<00:00, 736.97it/s]\n"
     ]
    }
   ],
   "source": [
    "tqdm.pandas()\n",
    "df['text'] = df['text'].progress_apply(pre.text_preprocess_light)"
   ]
  },
  {
   "cell_type": "code",
   "execution_count": 69,
   "id": "7bead54d",
   "metadata": {},
   "outputs": [],
   "source": [
    "for i in range(len(df['text'])):\n",
    "    df['text'][i] = df['text'][i].split() "
   ]
  },
  {
   "cell_type": "code",
   "execution_count": 70,
   "id": "eec49eb1",
   "metadata": {
    "executionInfo": {
     "elapsed": 1911,
     "status": "ok",
     "timestamp": 1674328421944,
     "user": {
      "displayName": "Maxim Gasilin",
      "userId": "15501735730920561422"
     },
     "user_tz": -180
    },
    "id": "eec49eb1"
   },
   "outputs": [],
   "source": [
    "# Словарь уникальных токенов\n",
    "dictionary = corpora.Dictionary(df['text'])"
   ]
  },
  {
   "cell_type": "code",
   "execution_count": 71,
   "id": "b96f9b56",
   "metadata": {
    "colab": {
     "base_uri": "https://localhost:8080/"
    },
    "executionInfo": {
     "elapsed": 8,
     "status": "ok",
     "timestamp": 1674328421945,
     "user": {
      "displayName": "Maxim Gasilin",
      "userId": "15501735730920561422"
     },
     "user_tz": -180
    },
    "id": "b96f9b56",
    "outputId": "1d9ae2ed-8dbc-4016-87b5-3e8a0e5168e7"
   },
   "outputs": [
    {
     "data": {
      "text/plain": [
       "12328"
      ]
     },
     "execution_count": 71,
     "metadata": {},
     "output_type": "execute_result"
    }
   ],
   "source": [
    "# Выкидывание редких слов\n",
    "dictionary.filter_extremes(no_below = 10, no_above = 0.9, keep_n=None)\n",
    "dictionary.save('tweet.dict')\n",
    "len(dictionary.keys())"
   ]
  },
  {
   "cell_type": "code",
   "execution_count": 72,
   "id": "19a37a4d",
   "metadata": {
    "executionInfo": {
     "elapsed": 2992,
     "status": "ok",
     "timestamp": 1674328425308,
     "user": {
      "displayName": "Maxim Gasilin",
      "userId": "15501735730920561422"
     },
     "user_tz": -180
    },
    "id": "19a37a4d"
   },
   "outputs": [],
   "source": [
    "# Векторизация твитов\n",
    "corpus = [dictionary.doc2bow(text) for text in df['text']]\n",
    "corpora.MmCorpus.serialize('tweet.model', corpus)"
   ]
  },
  {
   "cell_type": "code",
   "execution_count": 73,
   "id": "4bd411d5",
   "metadata": {
    "colab": {
     "base_uri": "https://localhost:8080/"
    },
    "executionInfo": {
     "elapsed": 9,
     "status": "ok",
     "timestamp": 1674328425309,
     "user": {
      "displayName": "Maxim Gasilin",
      "userId": "15501735730920561422"
     },
     "user_tz": -180
    },
    "id": "4bd411d5",
    "outputId": "d383c00f-7104-4488-eac1-0d2956234ac9"
   },
   "outputs": [
    {
     "name": "stdout",
     "output_type": "stream",
     "text": [
      "['школотый', 'поверь', 'самый', 'общество', 'профилировать', 'предмет', 'тип']\n",
      "[(0, 1.0), (1, 1.0), (2, 1.0), (3, 1.0), (4, 1.0), (5, 1.0)]\n"
     ]
    }
   ],
   "source": [
    "# Обработка словаря\n",
    "mm = corpora.MmCorpus('tweet.model')\n",
    "print(df['text'].values[0])\n",
    "print(mm[0])"
   ]
  },
  {
   "cell_type": "code",
   "execution_count": 63,
   "id": "58711af6",
   "metadata": {},
   "outputs": [
    {
     "name": "stderr",
     "output_type": "stream",
     "text": [
      "100%|███████████████████████████████████████████████████████████████████████████████████| 7/7 [29:48<00:00, 255.53s/it]\n"
     ]
    },
    {
     "data": {
      "text/plain": [
       "<function matplotlib.pyplot.show(close=None, block=None)>"
      ]
     },
     "execution_count": 63,
     "metadata": {},
     "output_type": "execute_result"
    },
    {
     "data": {
      "image/png": "[encoded data removed]",
      "text/plain": [
       "<Figure size 640x480 with 1 Axes>"
      ]
     },
     "metadata": {},
     "output_type": "display_data"
    }
   ],
   "source": [
    "topic_list = [3,4,5,10,15,20,25]\n",
    "coherences = []\n",
    "\n",
    "for num in tqdm(topic_list):\n",
    "    lda = ldamodel.LdaModel(corpus, \n",
    "                            id2word=dictionary, \n",
    "                            num_topics=num, \n",
    "                            chunksize=50, \n",
    "                            update_every=1, \n",
    "                            passes=2)\n",
    "    coherences.append(CoherenceModel(model=lda, \n",
    "                                     texts=df['text'], \n",
    "                                     dictionary=dictionary, \n",
    "                                     coherence='c_v').get_coherence())\n",
    "plt.plot(topic_list, coherences)\n",
    "plt.xlabel('Число тем')\n",
    "plt.ylabel('Средняя когерентность')\n",
    "plt.show\n",
    "    "
   ]
  },
  {
   "cell_type": "code",
   "execution_count": 91,
   "id": "a4c3fd28",
   "metadata": {},
   "outputs": [],
   "source": [
    "# Обучение модели\n",
    "lda = ldamodel.LdaModel(corpus, id2word=dictionary, num_topics=3)"
   ]
  },
  {
   "cell_type": "code",
   "execution_count": 92,
   "id": "05e4ee83",
   "metadata": {},
   "outputs": [
    {
     "data": {
      "text/plain": [
       "[(0,\n",
       "  '0.018*\"завтра\" + 0.016*\"хотеть\" + 0.012*\"школа\" + 0.012*\"спать\" + 0.010*\"дом\" + 0.010*\"идти\" + 0.010*\"блин\" + 0.009*\"час\" + 0.009*\"болеть\" + 0.009*\"вообще\" + 0.008*\"утро\" + 0.007*\"пойти\" + 0.007*\"скучать\" + 0.007*\"плохо\" + 0.006*\"настроение\" + 0.006*\"работа\" + 0.006*\"урок\" + 0.006*\"ночь\" + 0.006*\"делать\" + 0.006*\"сидеть\"'),\n",
       " (1,\n",
       "  '0.017*\"немочь\" + 0.010*\"нехотеть\" + 0.010*\"незнать\" + 0.010*\"знать\" + 0.009*\"думать\" + 0.008*\"никто\" + 0.008*\"писать\" + 0.007*\"блин\" + 0.007*\"какой\" + 0.007*\"вообще\" + 0.007*\"небыть\" + 0.006*\"жаль\" + 0.006*\"говорить\" + 0.005*\"делать\" + 0.005*\"бля\" + 0.004*\"написать\" + 0.004*\"мой\" + 0.004*\"нельзя\" + 0.004*\"понимать\" + 0.004*\"простить\"'),\n",
       " (2,\n",
       "  '0.020*\"хотеть\" + 0.010*\"новый\" + 0.010*\"любить\" + 0.009*\"самый\" + 0.009*\"мой\" + 0.008*\"друг\" + 0.007*\"любимый\" + 0.007*\"ждать\" + 0.007*\"хороший\" + 0.006*\"человек\" + 0.006*\"смотреть\" + 0.006*\"экзамен\" + 0.005*\"стать\" + 0.005*\"фильм\" + 0.005*\"ужасно\" + 0.005*\"обидно\" + 0.004*\"закончиться\" + 0.004*\"последний\" + 0.004*\"сон\" + 0.004*\"день\"')]"
      ]
     },
     "execution_count": 92,
     "metadata": {},
     "output_type": "execute_result"
    }
   ],
   "source": [
    "# Определяем тематики\n",
    "lda.show_topics(num_topics=3, num_words=20, formatted=True)"
   ]
  },
  {
   "cell_type": "markdown",
   "id": "c9f759a9",
   "metadata": {},
   "source": [
    "#### Оценка качества модели"
   ]
  },
  {
   "cell_type": "code",
   "execution_count": 93,
   "id": "00ebce29",
   "metadata": {},
   "outputs": [
    {
     "name": "stdout",
     "output_type": "stream",
     "text": [
      "Персплексия:  0.0002094213849412541\n"
     ]
    }
   ],
   "source": [
    "print('Персплексия: ', np.exp(lda.log_perplexity(corpus)))"
   ]
  },
  {
   "cell_type": "code",
   "execution_count": 94,
   "id": "a2e63ccb",
   "metadata": {},
   "outputs": [
    {
     "name": "stdout",
     "output_type": "stream",
     "text": [
      "Средняя когерентность:  0.11369465772266625\n"
     ]
    }
   ],
   "source": [
    "coherence_model_lda = CoherenceModel(model=lda, texts=df['text'], dictionary=dictionary, coherence='c_v')\n",
    "coherence_lda = coherence_model_lda.get_coherence()\n",
    "print('Средняя когерентность: ', coherence_lda)"
   ]
  },
  {
   "cell_type": "markdown",
   "id": "L2Z7-ueBH_nE",
   "metadata": {
    "id": "L2Z7-ueBH_nE"
   },
   "source": [
    "#### Визуализация"
   ]
  },
  {
   "cell_type": "code",
   "execution_count": 96,
   "id": "9f2b5b3c",
   "metadata": {},
   "outputs": [
    {
     "data": {
      "text/html": [
       "\n",
       "<link rel=\"stylesheet\" type=\"text/css\" href=\"https://cdn.jsdelivr.net/gh/bmabey/pyLDAvis@3.4.0/pyLDAvis/js/ldavis.v1.0.0.css\">\n",
       "\n",
       "\n",
       "<div id=\"ldavis_el1012023326877237609925515990\" style=\"background-color:white;\"></div>\n",
       "<script type=\"text/javascript\">\n",
       "\n",
       "var ldavis_el1012023326877237609925515990_data = {\"mdsDat\": {\"x\": [-0.2659751273320403, -0.025911974656196934, 0.2918871019882374], \"y\": [0.1817179466778857, -0.3189863857113952, 0.13726843903350938], \"topics\": [1, 2, 3], \"cluster\": [1, 1, 1], \"Freq\": [34.56040843545124, 33.317036972180695, 32.12255459236806]}, \"tinfo\": {\"Term\": [\"\\u0437\\u0430\\u0432\\u0442\\u0440\\u0430\", \"\\u043d\\u0435\\u043c\\u043e\\u0447\\u044c\", \"\\u0445\\u043e\\u0442\\u0435\\u0442\\u044c\", \"\\u0441\\u043f\\u0430\\u0442\\u044c\", \"\\u0448\\u043a\\u043e\\u043b\\u0430\", \"\\u043d\\u0435\\u0445\\u043e\\u0442\\u0435\\u0442\\u044c\", \"\\u0438\\u0434\\u0442\\u0438\", \"\\u0434\\u043e\\u043c\", \"\\u043d\\u0435\\u0437\\u043d\\u0430\\u0442\\u044c\", \"\\u0437\\u043d\\u0430\\u0442\\u044c\", \"\\u0441\\u0430\\u043c\\u044b\\u0439\", \"\\u0434\\u0443\\u043c\\u0430\\u0442\\u044c\", \"\\u043b\\u044e\\u0431\\u0438\\u0442\\u044c\", \"\\u043d\\u043e\\u0432\\u044b\\u0439\", \"\\u043d\\u0438\\u043a\\u0442\\u043e\", \"\\u0447\\u0430\\u0441\", \"\\u0443\\u0442\\u0440\\u043e\", \"\\u0434\\u0440\\u0443\\u0433\", \"\\u043a\\u0430\\u043a\\u043e\\u0439\", \"\\u043f\\u043e\\u0439\\u0442\\u0438\", \"\\u043f\\u0438\\u0441\\u0430\\u0442\\u044c\", \"\\u043b\\u044e\\u0431\\u0438\\u043c\\u044b\\u0439\", \"\\u0436\\u0434\\u0430\\u0442\\u044c\", \"\\u043f\\u043b\\u043e\\u0445\\u043e\", \"\\u0431\\u043e\\u043b\\u0435\\u0442\\u044c\", \"\\u043d\\u0430\\u0441\\u0442\\u0440\\u043e\\u0435\\u043d\\u0438\\u0435\", \"\\u0431\\u043b\\u0438\\u043d\", \"\\u0443\\u0440\\u043e\\u043a\", \"\\u0440\\u0430\\u0431\\u043e\\u0442\\u0430\", \"\\u044d\\u043a\\u0437\\u0430\\u043c\\u0435\\u043d\", \"\\u0441\\u043f\\u0430\\u0442\\u044c\", \"\\u0443\\u0442\\u0440\\u043e\", \"\\u043f\\u043b\\u043e\\u0445\\u043e\", \"\\u043d\\u0430\\u0441\\u0442\\u0440\\u043e\\u0435\\u043d\\u0438\\u0435\", \"\\u043a\\u0430\\u043d\\u0438\\u043a\\u0443\\u043b\\u044b\", \"\\u0443\\u043b\\u0438\\u0446\\u0430\", \"\\u0441\\u043d\\u0435\\u0433\", \"\\u043d\\u0435\\u043d\\u0430\\u0432\\u0438\\u0434\\u0435\\u0442\\u044c\", \"\\u0437\\u0430\\u0431\\u043e\\u043b\\u0435\\u0442\\u044c\", \"\\u0434\\u043e\\u043c\\u043e\\u0439\", \"\\u0436\\u0430\\u043b\\u043a\\u043e\", \"\\u043f\\u0430\\u0440\\u0430\", \"\\u0443\\u0441\\u0442\\u0430\\u0442\\u044c\", \"\\u043f\\u0440\\u043e\\u0441\\u043d\\u0443\\u0442\\u044c\\u0441\\u044f\", \"\\u0432\\u044b\\u0445\\u043e\\u0434\\u043d\\u043e\\u0439\", \"\\u0445\\u043e\\u043b\\u043e\\u0434\\u043d\\u043e\", \"\\u043d\\u0435\\u0442\\u0443\", \"\\u043a\\u0430\\u043f\\u0435\\u0446\", \"\\u0443\\u043c\\u0435\\u0440\\u0435\\u0442\\u044c\", \"\\u0443\\u0435\\u0445\\u0430\\u0442\\u044c\", \"\\u0434\\u043e\\u0431\\u0440\\u044b\\u0439\", \"\\u043f\\u043e\\u0433\\u043e\\u0434\\u0430\", \"\\u043f\\u043e\\u043d\\u0435\\u0434\\u0435\\u043b\\u044c\\u043d\\u0438\\u043a\", \"\\u0433\\u0440\\u0443\\u0441\\u0442\\u043d\\u043e\", \"\\u043d\\u0435\\u0441\\u043c\\u043e\\u0447\\u044c\", \"\\u0446\\u0435\\u043b\\u044b\\u0439\", \"\\u0431\\u043e\\u044f\\u0442\\u044c\\u0441\\u044f\", \"\\u043d\\u0435\\u0445\\u0432\\u0430\\u0442\\u0430\\u0442\\u044c\", \"\\u0432\\u0440\\u043e\\u0434\\u0435\", \"\\u043a\\u0430\\u0442\\u043e\\u043a\", \"\\u0437\\u0430\\u0432\\u0442\\u0440\\u0430\", \"\\u0438\\u0434\\u0442\\u0438\", \"\\u0434\\u043e\\u043c\", \"\\u0443\\u0440\\u043e\\u043a\", \"\\u0448\\u043a\\u043e\\u043b\\u0430\", \"\\u043f\\u043e\\u0439\\u0442\\u0438\", \"\\u0440\\u0430\\u0431\\u043e\\u0442\\u0430\", \"\\u0440\\u0430\\u0432\\u043d\\u043e\", \"\\u043f\\u0440\\u0438\\u0439\\u0442\\u0438\", \"\\u0432\\u0441\\u0442\\u0430\\u0432\\u0430\\u0442\\u044c\", \"\\u043d\\u043e\\u0447\\u044c\", \"\\u0447\\u0430\\u0441\", \"\\u043d\\u0435\\u0434\\u0435\\u043b\\u044f\", \"\\u043c\\u0438\\u043d\\u0443\\u0442\\u0430\", \"\\u0432\\u0435\\u0447\\u0435\\u0440\", \"\\u0431\\u043e\\u043b\\u0435\\u0442\\u044c\", \"\\u0441\\u043a\\u0443\\u0447\\u0430\\u0442\\u044c\", \"\\u0445\\u043e\\u0442\\u0435\\u0442\\u044c\", \"\\u0431\\u043b\\u0438\\u043d\", \"\\u0432\\u043e\\u043e\\u0431\\u0449\\u0435\", \"\\u0441\\u0438\\u0434\\u0435\\u0442\\u044c\", \"\\u0434\\u0435\\u043d\\u044c\", \"\\u0434\\u0435\\u043b\\u0430\\u0442\\u044c\", \"\\u0433\\u043e\\u043b\\u043e\\u0432\\u0430\", \"\\u043d\\u0435\\u0437\\u043d\\u0430\\u0442\\u044c\", \"\\u043d\\u0435\\u0445\\u043e\\u0442\\u0435\\u0442\\u044c\", \"\\u043d\\u0438\\u043a\\u0442\\u043e\", \"\\u043d\\u0435\\u043c\\u043e\\u0447\\u044c\", \"\\u043d\\u0435\\u043b\\u044c\\u0437\\u044f\", \"\\u043f\\u0440\\u043e\\u0441\\u0442\\u0438\\u0442\\u044c\", \"\\u0431\\u043e\\u043b\\u044c\", \"\\u0442\\u0432\\u0438\\u0442\\u0442\\u0435\\u0440\", \"\\u0447\\u0438\\u0442\\u0430\\u0442\\u044c\", \"\\u043b\\u0435\\u043d\\u0442\\u0430\", \"\\u0431\\u043e\\u043b\\u044c\\u043d\\u043e\", \"\\u0441\\u0435\\u0440\\u0438\\u044f\", \"\\u0447\\u0435\\u0440\\u0442\\u0430\", \"\\u043f\\u0435\\u0447\\u0430\\u043b\\u044c\\u043d\\u043e\", \"\\u043d\\u0438\\u043a\\u0430\\u043a\", \"\\u043c\\u043d\\u0435\\u0442\\u0430\\u043a\", \"\\u0434\\u0443\\u043c\\u0430\\u0442\\u044c\", \"\\u0442\\u0443\\u043f\\u043e\\u0439\", \"\\u0432\\u044b\\u0445\\u043e\\u0434\\u0438\\u0442\\u044c\", \"\\u043b\\u043e\\u0445\", \"\\u0434\\u0430\\u0442\\u044c\", \"\\u043f\\u0435\\u0440\\u0435\\u0441\\u0442\\u0430\\u0442\\u044c\", \"\\u043c\\u043d\\u0435\\u043a\\u0430\\u0437\\u0430\\u0442\\u044c\\u0441\\u044f\", \"\\u043d\\u0435\\u043f\\u0438\\u0441\\u0430\\u0442\\u044c\", \"\\u043d\\u0435\\u043a\\u043e\\u0433\\u043e\", \"\\u043f\\u0437\\u0434\\u0446\\u0430\", \"\\u0442\\u0432\\u043e\\u0439\", \"\\u0432\\u0437\\u044f\\u0442\\u044c\", \"\\u043d\\u043e\\u0440\\u043c\\u0430\", \"\\u0436\\u0440\\u0430\\u0442\\u044c\", \"\\u0437\\u043d\\u0430\\u0442\\u044c\", \"\\u043a\\u0430\\u043a\\u043e\\u0439\", \"\\u043f\\u0440\\u0430\\u0432\\u0434\\u0430\", \"\\u0441\\u043a\\u0443\\u0447\\u043d\\u043e\", \"\\u0433\\u043e\\u0440\\u043e\\u0434\", \"\\u0442\\u0432\\u0438\\u0442\", \"\\u0437\\u0430\\u0439\\u0442\\u0438\", \"\\u043d\\u0435\\u043f\\u043e\\u043d\\u0438\\u043c\\u0430\\u0442\\u044c\", \"\\u043a\\u043e\\u0442\", \"\\u0441\\u0438\\u043b\\u044c\\u043d\\u043e\", \"\\u043f\\u0438\\u0441\\u0430\\u0442\\u044c\", \"\\u0433\\u043e\\u0432\\u043e\\u0440\\u0438\\u0442\\u044c\", \"\\u043f\\u043e\\u043b\", \"\\u0442\\u0435\\u043c\\u043f\\u0435\\u0440\\u0430\\u0442\\u0443\\u0440\\u0430\", \"\\u043f\\u043e\\u043d\\u044f\\u0442\\u044c\", \"\\u043f\\u043e\\u043d\\u0438\\u043c\\u0430\\u0442\\u044c\", \"\\u0440\\u0443\\u043a\\u0430\", \"\\u0436\\u0430\\u043b\\u044c\", \"\\u043d\\u0430\\u043f\\u0438\\u0441\\u0430\\u0442\\u044c\", \"\\u043d\\u0435\\u0431\\u044b\\u0442\\u044c\", \"\\u0431\\u043b\\u044f\", \"\\u0431\\u043b\\u0438\\u043d\", \"\\u0432\\u043e\\u043e\\u0431\\u0449\\u0435\", \"\\u0434\\u0435\\u043b\\u0430\\u0442\\u044c\", \"\\u0437\\u0430\\u0431\\u044b\\u0442\\u044c\", \"\\u043c\\u043e\\u0439\", \"\\u0441\\u043c\\u043e\\u0442\\u0440\\u0435\\u0442\\u044c\", \"\\u043c\\u0430\\u043c\\u0430\", \"\\u044d\\u043a\\u0437\\u0430\\u043c\\u0435\\u043d\", \"\\u0444\\u0438\\u043b\\u044c\\u043c\", \"\\u043e\\u0431\\u0438\\u0434\\u043d\\u043e\", \"\\u0437\\u0430\\u043a\\u043e\\u043d\\u0447\\u0438\\u0442\\u044c\\u0441\\u044f\", \"\\u0447\\u0443\\u0432\\u0441\\u0442\\u0432\\u043e\", \"\\u0443\\u0436\\u0430\\u0441\\u043d\\u044b\\u0439\", \"\\u043d\\u043e\\u0433\\u0430\", \"\\u0443\\u0436\\u0430\\u0441\\u043d\\u043e\", \"\\u0441\\u0442\\u0430\\u0442\\u044c\", \"\\u043c\\u043e\\u043c\\u0435\\u043d\\u0442\", \"\\u0431\\u0435\\u0441\\u0438\\u0442\\u044c\", \"\\u043f\\u0435\\u0441\\u043d\\u044f\", \"\\u0431\\u044b\\u0441\\u0442\\u0440\\u043e\", \"\\u043b\\u0435\\u0442\\u043e\", \"\\u043b\\u044e\\u0431\\u043e\\u0432\\u044c\", \"\\u0444\\u043e\\u0442\\u043a\\u0430\", \"\\u0441\\u0435\\u0441\\u0441\\u0438\\u044f\", \"\\u0441\\u0435\\u0440\\u0438\\u0430\\u043b\", \"\\u043f\\u0435\\u0447\\u0430\\u043b\\u044c\", \"\\u043f\\u0440\\u0430\\u0437\\u0434\\u043d\\u0438\\u043a\", \"\\u0441\\u043b\\u0443\\u0448\\u0430\\u0442\\u044c\", \"\\u043d\\u0435\\u0432\\u0438\\u0434\\u0435\\u0442\\u044c\", \"\\u0448\\u0435\\u0440\\u043b\\u043e\\u043a\", \"\\u043d\\u0435\\u0440\\u0430\\u0431\\u043e\\u0442\\u0430\\u0442\\u044c\", \"\\u0441\\u0434\\u0430\\u0442\\u044c\", \"\\u0441\\u043e\\u0436\\u0430\\u043b\\u0435\\u043d\\u0438\\u0435\", \"\\u043d\\u0435\\u0445\\u043e\\u0442\\u0435\\u0442\\u044c\\u0441\\u044f\", \"\\u0443\\u0435\\u0437\\u0436\\u0430\\u0442\\u044c\", \"\\u0441\\u0435\\u0440\\u0434\\u0446\\u0435\", \"\\u0431\\u043e\\u043b\\u044c\\u043d\\u0438\\u0446\\u0430\", \"\\u0441\\u0430\\u043c\\u044b\\u0439\", \"\\u0436\\u0434\\u0430\\u0442\\u044c\", \"\\u043b\\u044e\\u0431\\u0438\\u043c\\u044b\\u0439\", \"\\u0434\\u0443\\u0448\\u0430\", \"\\u0441\\u0442\\u0430\\u0440\\u044b\\u0439\", \"\\u043c\\u0443\\u0437\\u044b\\u043a\\u0430\", \"\\u0434\\u0440\\u0443\\u0433\", \"\\u0441\\u043e\\u043d\", \"\\u043b\\u044e\\u0431\\u0438\\u0442\\u044c\", \"\\u043d\\u043e\\u0432\\u044b\\u0439\", \"\\u0445\\u043e\\u0440\\u043e\\u0448\\u0438\\u0439\", \"\\u0434\\u0430\\u0432\\u0430\\u0442\\u044c\", \"\\u043d\\u0435\\u043b\\u044e\\u0431\\u0438\\u0442\\u044c\", \"\\u0445\\u043e\\u0442\\u0435\\u0442\\u044c\", \"\\u043c\\u043e\\u0439\", \"\\u0447\\u0435\\u043b\\u043e\\u0432\\u0435\\u043a\", \"\\u0441\\u043c\\u043e\\u0442\\u0440\\u0435\\u0442\\u044c\", \"\\u043f\\u043e\\u0441\\u043b\\u0435\\u0434\\u043d\\u0438\\u0439\", \"\\u043f\\u043e\\u0441\\u043c\\u043e\\u0442\\u0440\\u0435\\u0442\\u044c\", \"\\u0442\\u0430\\u043a\\u043e\\u0439\", \"\\u0434\\u0435\\u043d\\u044c\", \"\\u043e\\u0434\\u0438\\u043d\"], \"Freq\": [6965.0, 6244.0, 13012.0, 4490.0, 4618.0, 3795.0, 3802.0, 3902.0, 3513.0, 3531.0, 3285.0, 3303.0, 3811.0, 3908.0, 2996.0, 3467.0, 2984.0, 2892.0, 2654.0, 2709.0, 2926.0, 2440.0, 2397.0, 2477.0, 3807.0, 2395.0, 6329.0, 2313.0, 2350.0, 1956.0, 4489.446400345448, 2984.00989575173, 2476.9826087688475, 2394.234857775066, 1767.7886420293746, 1680.4418497720703, 1521.9119918530666, 1643.4151276927837, 1376.9026646484497, 1747.3068631948736, 1497.2632055682518, 1283.683149025068, 1275.1761095936313, 1149.795659306149, 1134.1192675551952, 1169.090795817313, 1131.5965206613791, 1105.6530396404405, 1111.3004266892094, 979.8714150978357, 913.7696262441137, 1008.034674245737, 854.1076381059191, 1019.8792056558503, 908.0428483664216, 826.1720890874867, 1411.9300214558234, 840.9903917019087, 1483.1912470808809, 749.0828029325564, 6956.280346695427, 3798.942423854152, 3878.973302870771, 2309.097293368455, 4572.242506772128, 2694.4899177341363, 2336.6567250379035, 1653.8996405728753, 1624.4648972966415, 1288.5118346353754, 2182.5815454354774, 3376.8293870968564, 2059.5579389474838, 1344.217732929664, 1313.5763018051823, 3362.1725916283162, 2536.464890534596, 5903.820657055853, 3654.8207265596197, 3214.647375209458, 2116.6553307626627, 1984.6428888936223, 2165.058767418509, 1547.4758387662653, 3512.2924950964643, 3795.0972657247644, 2994.9778994870717, 6241.453085374404, 1540.8195710935217, 1496.0640330583471, 1468.8204261335093, 1382.5438058411864, 1363.3022604794428, 1128.5209622564596, 1032.0837163909077, 971.3541435844844, 852.1219600168043, 859.7728777643656, 973.9924261550625, 808.4551966507909, 3299.666990111952, 707.0515075897824, 682.4967401474141, 591.7565759667707, 1051.6464019691741, 613.4593911405261, 643.2438113171239, 585.1503598050789, 619.4265052165251, 596.3875128156698, 1339.9542903379347, 939.4588769860076, 747.3151508782499, 545.9440043579979, 3506.215833981707, 2635.288313104028, 1457.5156802692165, 1366.9415105763164, 1277.9743133049715, 1205.4379005084488, 739.0514477610768, 849.552160237187, 890.7961753611041, 1400.8338811394083, 2820.3493252149688, 2026.932627386633, 905.4929382761908, 901.4886443913615, 1386.0644823928199, 1501.285506845389, 1417.3428953370733, 2125.3698589183996, 1554.0013217704598, 2378.6341369349348, 1661.1929932506657, 2673.856837804358, 2424.896635394964, 1910.4278048713377, 1341.958768068408, 1546.1644495137798, 1435.139945393935, 1392.9283565799085, 1955.3721072886804, 1803.4654413401745, 1611.0747373603579, 1574.4706348291654, 1364.8103771626065, 1442.0487957660687, 1352.7938540941059, 1646.9105342139576, 1814.0538735746384, 1250.0001602361992, 1152.8861428104794, 1038.1164576449833, 1013.5415443575761, 965.0179988626458, 908.510595358089, 1452.2013481362185, 888.7768576990202, 929.7771036611283, 933.6076002190063, 838.2364485124634, 866.4348685384185, 782.3269701986052, 905.2877483448377, 806.5420823906667, 747.6075128325185, 724.3782376639075, 937.4372796042853, 721.5927414256486, 853.100572936748, 859.039456517342, 3279.463999601319, 2395.071599765048, 2432.3372852324023, 1015.589460607965, 975.4348248513165, 1010.9547027781374, 2807.444840530389, 1543.2605251895443, 3623.938859418147, 3678.3952414164387, 2295.1407066732672, 1031.8967935593682, 1155.7562164127364, 6984.9762965434375, 3035.0035479158905, 2135.522219473347, 2081.392543080141, 1571.5422151033388, 1299.947138681352, 1459.3154893487142, 1478.5226409849786, 1375.16697753073], \"Total\": [6965.0, 6244.0, 13012.0, 4490.0, 4618.0, 3795.0, 3802.0, 3902.0, 3513.0, 3531.0, 3285.0, 3303.0, 3811.0, 3908.0, 2996.0, 3467.0, 2984.0, 2892.0, 2654.0, 2709.0, 2926.0, 2440.0, 2397.0, 2477.0, 3807.0, 2395.0, 6329.0, 2313.0, 2350.0, 1956.0, 4490.203472806271, 2984.778256654914, 2477.797558045469, 2395.167653551141, 1768.562211616897, 1681.2327472466636, 1522.6569129076101, 1644.2314963588726, 1377.6726497623345, 1748.2908358494783, 1498.1625191934056, 1284.497781620498, 1275.998050440942, 1150.5500494774749, 1134.8908794079969, 1169.8881022936332, 1132.3829988120845, 1106.4569642925446, 1112.1799939499483, 980.6630447930044, 914.5431214977654, 1008.8921327901256, 854.872188004714, 1020.8146537399562, 908.876535643814, 826.944878134545, 1413.282574283359, 841.7965106347717, 1484.6324746153896, 749.8409552646884, 6965.426117640994, 3802.9051436661807, 3902.9431774869695, 2313.0452138114515, 4618.146108004767, 2709.997986816916, 2350.2393253188666, 1658.2177360818807, 1628.5757268642874, 1291.3275259744062, 2212.1175471256865, 3467.6090528170325, 2089.32437323799, 1350.989874557215, 1319.3005757279655, 3807.8723689846715, 3237.8461884113176, 13012.020357449688, 6329.118682911147, 5668.14906337664, 3496.11450845902, 3463.5750444571145, 4655.465835541429, 2212.75805791953, 3513.054581210238, 3795.9579008270302, 2996.1068457319357, 6244.202898221596, 1541.6092515573182, 1496.843076386044, 1469.6095870944507, 1383.376872693341, 1364.205956317976, 1129.3351031410575, 1032.85470909409, 972.2257380433006, 852.8974223819195, 860.6138827581956, 974.9670959263611, 809.2753089510195, 3303.276719218183, 707.8310801427307, 683.3242912423685, 592.4907570461729, 1052.9842902612688, 614.2417359353831, 644.0758706444464, 585.9159920019941, 620.2377853466738, 597.1959146165608, 1341.777007962387, 940.7431843022256, 748.339143713259, 546.741994294355, 3531.121630946036, 2654.1651096062947, 1459.7233492055684, 1369.4518152817943, 1282.075109580687, 1209.26234105513, 740.1340155479749, 852.1340348904189, 894.4039917048867, 1420.4666478085983, 2926.181605314019, 2099.5934400349724, 910.5711529640693, 906.614256493843, 1450.5809221705317, 1703.1692430305104, 1623.2259356833492, 2862.828012420598, 1896.1612152330297, 3525.441125140913, 2497.2583749830897, 6329.118682911147, 5668.14906337664, 4655.465835541429, 1906.1540646524109, 4601.03531745915, 3556.468394285138, 3013.7827612588962, 1956.2346726174103, 1804.296205983854, 1611.8408111858985, 1575.247742486951, 1365.5536011946112, 1442.8460499708517, 1353.580764214005, 1647.8749186891012, 1815.1875709713138, 1250.7898445209923, 1153.6618190470792, 1038.8869309233894, 1014.299023716327, 965.7894910055942, 909.2752468646116, 1453.4564362696788, 889.5482973920252, 930.5868979304926, 934.4320062546453, 838.9800685477165, 867.2321830787071, 783.0752485474615, 906.1820595477622, 807.3553872790744, 748.3663833156331, 725.1184332520565, 938.4198260747164, 722.3550077713448, 854.0496122925142, 859.999313082912, 3285.5983310585966, 2397.8918359057307, 2440.0451689552187, 1017.2162930877372, 978.0327205232757, 1014.3981649040711, 2892.732329247144, 1571.5615481859277, 3811.8786998569217, 3908.277177302011, 2609.5026704901006, 1055.4613256203083, 1215.3475552891373, 13012.020357449688, 4601.03531745915, 3352.7373414735675, 3556.468394285138, 2643.503939530072, 2053.414181740285, 2887.3863118088484, 3463.5750444571145, 3345.4543872626286], \"Category\": [\"Default\", \"Default\", \"Default\", \"Default\", \"Default\", \"Default\", \"Default\", \"Default\", \"Default\", \"Default\", \"Default\", \"Default\", \"Default\", \"Default\", \"Default\", \"Default\", \"Default\", \"Default\", \"Default\", \"Default\", \"Default\", \"Default\", \"Default\", \"Default\", \"Default\", \"Default\", \"Default\", \"Default\", \"Default\", \"Default\", \"Topic1\", \"Topic1\", \"Topic1\", \"Topic1\", \"Topic1\", \"Topic1\", \"Topic1\", \"Topic1\", \"Topic1\", \"Topic1\", \"Topic1\", \"Topic1\", \"Topic1\", \"Topic1\", \"Topic1\", \"Topic1\", \"Topic1\", \"Topic1\", \"Topic1\", \"Topic1\", \"Topic1\", \"Topic1\", \"Topic1\", \"Topic1\", \"Topic1\", \"Topic1\", \"Topic1\", \"Topic1\", \"Topic1\", \"Topic1\", \"Topic1\", \"Topic1\", \"Topic1\", \"Topic1\", \"Topic1\", \"Topic1\", \"Topic1\", \"Topic1\", \"Topic1\", \"Topic1\", \"Topic1\", \"Topic1\", \"Topic1\", \"Topic1\", \"Topic1\", \"Topic1\", \"Topic1\", \"Topic1\", \"Topic1\", \"Topic1\", \"Topic1\", \"Topic1\", \"Topic1\", \"Topic1\", \"Topic2\", \"Topic2\", \"Topic2\", \"Topic2\", \"Topic2\", \"Topic2\", \"Topic2\", \"Topic2\", \"Topic2\", \"Topic2\", \"Topic2\", \"Topic2\", \"Topic2\", \"Topic2\", \"Topic2\", \"Topic2\", \"Topic2\", \"Topic2\", \"Topic2\", \"Topic2\", \"Topic2\", \"Topic2\", \"Topic2\", \"Topic2\", \"Topic2\", \"Topic2\", \"Topic2\", \"Topic2\", \"Topic2\", \"Topic2\", \"Topic2\", \"Topic2\", \"Topic2\", \"Topic2\", \"Topic2\", \"Topic2\", \"Topic2\", \"Topic2\", \"Topic2\", \"Topic2\", \"Topic2\", \"Topic2\", \"Topic2\", \"Topic2\", \"Topic2\", \"Topic2\", \"Topic2\", \"Topic2\", \"Topic2\", \"Topic2\", \"Topic2\", \"Topic2\", \"Topic2\", \"Topic2\", \"Topic2\", \"Topic2\", \"Topic2\", \"Topic2\", \"Topic3\", \"Topic3\", \"Topic3\", \"Topic3\", \"Topic3\", \"Topic3\", \"Topic3\", \"Topic3\", \"Topic3\", \"Topic3\", \"Topic3\", \"Topic3\", \"Topic3\", \"Topic3\", \"Topic3\", \"Topic3\", \"Topic3\", \"Topic3\", \"Topic3\", \"Topic3\", \"Topic3\", \"Topic3\", \"Topic3\", \"Topic3\", \"Topic3\", \"Topic3\", \"Topic3\", \"Topic3\", \"Topic3\", \"Topic3\", \"Topic3\", \"Topic3\", \"Topic3\", \"Topic3\", \"Topic3\", \"Topic3\", \"Topic3\", \"Topic3\", \"Topic3\", \"Topic3\", \"Topic3\", \"Topic3\", \"Topic3\", \"Topic3\", \"Topic3\", \"Topic3\", \"Topic3\", \"Topic3\", \"Topic3\", \"Topic3\", \"Topic3\", \"Topic3\"], \"logprob\": [30.0, 29.0, 28.0, 27.0, 26.0, 25.0, 24.0, 23.0, 22.0, 21.0, 20.0, 19.0, 18.0, 17.0, 16.0, 15.0, 14.0, 13.0, 12.0, 11.0, 10.0, 9.0, 8.0, 7.0, 6.0, 5.0, 4.0, 3.0, 2.0, 1.0, -4.4321, -4.8406, -5.0268, -5.0608, -5.3641, -5.4148, -5.5139, -5.4371, -5.614, -5.3758, -5.5302, -5.6841, -5.6908, -5.7943, -5.808, -5.7776, -5.8102, -5.8334, -5.8283, -5.9542, -6.024, -5.9259, -6.0916, -5.9142, -6.0303, -6.1248, -5.5889, -6.107, -5.5397, -6.2228, -3.9942, -4.5991, -4.5783, -5.097, -4.4139, -4.9427, -5.0851, -5.4307, -5.4487, -5.6804, -5.1534, -4.7169, -5.2114, -5.638, -5.6611, -4.7213, -5.0031, -4.1583, -4.6378, -4.7661, -5.184, -5.2484, -5.1614, -5.4972, -4.641, -4.5635, -4.8003, -4.066, -5.4649, -5.4944, -5.5128, -5.5733, -5.5873, -5.7763, -5.8656, -5.9263, -6.0572, -6.0483, -5.9236, -6.1098, -4.7034, -6.2439, -6.2792, -6.4219, -5.8469, -6.3859, -6.3385, -6.4331, -6.3762, -6.4141, -5.6046, -5.9597, -6.1885, -6.5025, -4.6427, -4.9282, -5.5205, -5.5846, -5.6519, -5.7104, -6.1996, -6.0603, -6.0129, -5.5602, -4.8604, -5.1907, -5.9965, -6.0009, -5.5708, -5.4909, -5.5484, -5.1433, -5.4564, -5.0307, -5.3897, -4.9137, -5.0114, -5.2499, -5.6031, -5.4614, -5.536, -5.5658, -5.1901, -5.271, -5.3838, -5.4068, -5.5497, -5.4946, -5.5585, -5.3618, -5.2651, -5.6376, -5.7184, -5.8233, -5.8473, -5.8963, -5.9567, -5.4876, -5.9786, -5.9335, -5.9294, -6.0372, -6.0041, -6.1062, -5.9602, -6.0757, -6.1516, -6.1832, -5.9253, -6.187, -6.0196, -6.0126, -4.673, -4.9873, -4.9719, -5.8452, -5.8856, -5.8498, -4.8284, -5.4268, -4.5731, -4.5582, -5.0299, -5.8293, -5.716, -3.9169, -4.7505, -5.102, -5.1277, -5.4087, -5.5984, -5.4827, -5.4697, -5.5421], \"loglift\": [30.0, 29.0, 28.0, 27.0, 26.0, 25.0, 24.0, 23.0, 22.0, 21.0, 20.0, 19.0, 18.0, 17.0, 16.0, 15.0, 14.0, 13.0, 12.0, 11.0, 10.0, 9.0, 8.0, 7.0, 6.0, 5.0, 4.0, 3.0, 2.0, 1.0, 1.0623, 1.0622, 1.0621, 1.0621, 1.062, 1.062, 1.062, 1.062, 1.0619, 1.0619, 1.0619, 1.0618, 1.0618, 1.0618, 1.0618, 1.0618, 1.0618, 1.0617, 1.0617, 1.0617, 1.0616, 1.0616, 1.0616, 1.0615, 1.0615, 1.0615, 1.0615, 1.0615, 1.0615, 1.0614, 1.0611, 1.0614, 1.0563, 1.0608, 1.0525, 1.0567, 1.0567, 1.0599, 1.0599, 1.0603, 1.049, 1.0359, 1.0481, 1.0574, 1.0581, 0.938, 0.8183, 0.2722, 0.5133, 0.4953, 0.5606, 0.5056, 0.2969, 0.7048, 1.0989, 1.0989, 1.0987, 1.0987, 1.0986, 1.0986, 1.0986, 1.0985, 1.0984, 1.0984, 1.0984, 1.0982, 1.0982, 1.0981, 1.0981, 1.0981, 1.098, 1.098, 1.0979, 1.0979, 1.0978, 1.0978, 1.0978, 1.0978, 1.0978, 1.0977, 1.0977, 1.0977, 1.0977, 1.0976, 1.092, 1.092, 1.0976, 1.0973, 1.0959, 1.0959, 1.0976, 1.0961, 1.0951, 1.0852, 1.0623, 1.0639, 1.0935, 1.0934, 1.0536, 0.9729, 0.9635, 0.8012, 0.9001, 0.7056, 0.6914, 0.2375, 0.25, 0.2084, 0.7481, 0.0086, 0.1916, 0.3273, 1.1352, 1.1352, 1.1351, 1.1351, 1.1351, 1.1351, 1.135, 1.135, 1.135, 1.135, 1.1349, 1.1349, 1.1349, 1.1348, 1.1348, 1.1347, 1.1347, 1.1347, 1.1347, 1.1347, 1.1347, 1.1347, 1.1346, 1.1346, 1.1346, 1.1346, 1.1346, 1.1346, 1.1345, 1.1345, 1.1337, 1.1344, 1.1324, 1.134, 1.133, 1.1322, 1.1057, 1.1174, 1.0851, 1.075, 1.0072, 1.113, 1.0853, 0.5135, 0.7195, 0.6845, 0.5999, 0.6156, 0.6784, 0.4532, 0.2844, 0.2466]}, \"token.table\": {\"Topic\": [3, 1, 2, 1, 2, 3, 1, 2, 3, 2, 1, 3, 2, 1, 2, 3, 1, 3, 1, 2, 1, 2, 3, 1, 2, 1, 2, 2, 1, 1, 2, 3, 1, 2, 3, 1, 2, 3, 1, 3, 2, 3, 1, 2, 3, 1, 2, 3, 1, 3, 1, 1, 2, 3, 1, 2, 1, 2, 3, 1, 2, 1, 3, 1, 1, 2, 3, 1, 2, 3, 2, 1, 1, 2, 3, 1, 2, 3, 2, 3, 3, 1, 2, 3, 1, 2, 3, 1, 2, 3, 1, 1, 1, 2, 3, 2, 3, 2, 2, 3, 1, 2, 3, 3, 1, 2, 3, 1, 3, 2, 2, 1, 2, 3, 3, 1, 3, 1, 2, 3, 1, 3, 1, 2, 3, 3, 1, 2, 3, 2, 2, 2, 1, 2, 3, 1, 2, 3, 1, 2, 1, 2, 3, 3, 1, 1, 1, 2, 1, 3, 1, 2, 1, 2, 1, 2, 3, 3, 1, 2, 1, 3, 3, 1, 2, 3, 1, 2, 3, 3, 2, 2, 1, 2, 3, 1, 1, 1, 2, 3, 1, 2, 3, 1, 1, 2, 1, 2, 3, 1, 2, 3, 1, 2, 3, 1, 2, 3, 3, 1, 2, 3, 1, 2, 1, 2, 3, 1, 2, 3, 1, 2, 3, 1, 2, 3, 3, 1, 3, 3, 2, 3, 3, 1, 2, 3, 1, 2, 3, 1, 2, 3, 2, 3, 3, 1, 2, 3, 1, 3, 1, 3, 1, 1, 3, 2, 3, 1, 2, 3, 2, 3, 2, 2, 3, 1, 2, 2, 3, 1, 1, 3, 3, 1, 1, 1, 2, 3, 1, 1, 3, 2, 3, 1, 1, 2, 3, 1, 2, 3, 1, 1, 2, 3, 1, 2, 3, 2, 2, 3, 2, 3, 1, 3, 3], \"Freq\": [0.9994263318451279, 0.5774895657856179, 0.42249168232852047, 0.32675833953526157, 0.6651294141765558, 0.008008782831746608, 0.8829077432803877, 0.005777504566379693, 0.11134826982477226, 0.9995852047375005, 0.0011627916264435325, 0.9988380071149945, 0.9991724788718448, 0.9990924856028813, 0.000707572581871729, 0.9997051917537775, 0.9959822834724068, 0.003789886923410985, 0.001062989364883602, 0.9981470136257021, 0.5672045607926822, 0.4278292565854601, 0.005116308635454987, 0.9989004183572016, 0.0006735673758308843, 0.9981975711602292, 0.0015487937488909685, 0.9980619871716242, 0.9992150087518004, 0.030482091808657, 0.9654250015023084, 0.003810261476082125, 0.6991274958702506, 0.14009665398822088, 0.16043326505102712, 0.0015599710072010649, 0.9968214736014804, 0.0015599710072010649, 0.9992019572436862, 0.0009796097620036138, 0.021791419014318313, 0.9777714966424564, 0.0009496817846654462, 0.9990652374680494, 0.0009496817846654462, 0.4650447616802693, 0.41027043640153094, 0.12458473984967955, 0.5731072589798993, 0.42701543376890233, 0.9994061280600133, 0.993865353299254, 0.0005124337990715411, 0.0056367717897869525, 0.9992616584020181, 0.0005719872114493521, 0.02903828990698965, 0.000691387854928325, 0.9703628543919041, 0.0009081891270405095, 0.9990080397445604, 0.0009830750911042946, 0.9988042925619632, 0.9992240366592328, 0.22704821846786652, 0.742273021914179, 0.03038953077954521, 0.0008340659783115533, 0.00041703298915577667, 0.9987940090280851, 0.9986428803675258, 0.9995117492080209, 0.005246165661758044, 0.7040354318079295, 0.29063757766139564, 0.9986467277835134, 0.00028713246917294805, 0.0010049636421053183, 0.9984678240370627, 0.0013511066631083392, 0.9992079071416531, 0.0011327845421536344, 0.9928856511976605, 0.005947118846306581, 0.9989731156790264, 0.00026295686119479506, 0.0007888705835843851, 0.004144429432889231, 0.9927792323330112, 0.0030141304966467136, 0.9996821080914179, 0.9995870021995507, 0.998878488486413, 0.9961941228611937, 0.003354188965862605, 0.9997032739528546, 0.9991825433876153, 0.9991717051441957, 0.0028687993521846434, 0.9967028606447218, 0.04538444520978423, 0.003935067503738517, 0.9507123089032257, 0.9996972898299379, 0.4058023078906779, 0.462209824114239, 0.13205994974692542, 0.9948261088488869, 0.004441187985932531, 0.9983295902028283, 0.998424134609182, 0.004346847746225232, 0.33601133078321044, 0.6596341454896789, 0.9993685233978736, 0.0029574185993166717, 0.9966500679697183, 0.15715963263354543, 0.8195505674917101, 0.02320477797273825, 0.9995124961088173, 0.0004175073083161309, 0.32308013651893674, 0.6748091701304219, 0.0022692195716870005, 0.9986268898813289, 0.9859646622546484, 0.00335036535717599, 0.011008343316435396, 0.9996998107527624, 0.9980043374074961, 0.9996047950823448, 0.04690016427970632, 0.0024684296989319118, 0.9511682439884299, 0.0003202970871701843, 0.9994870605145602, 0.00016014854358509215, 0.9992510200895678, 0.9984366495973863, 0.0023470486075083154, 0.9974956581910341, 0.0011735243037541577, 0.9995598130827217, 0.9990355833719559, 0.9996617762607826, 0.9990537967018049, 0.9997476524102594, 0.0010656211348207178, 0.9984870033270127, 0.0010256756399043949, 0.9990080732668806, 0.00033376646811662835, 0.9996305720093018, 0.048614771005356924, 0.01023468863270672, 0.941079619777383, 0.9995709423261919, 0.0013362925197765278, 0.9982105122730662, 0.9868372514093926, 0.013109610760821065, 0.9994783534576966, 0.33239132006515815, 0.2564674034315699, 0.4110054542172594, 0.9996124698480444, 0.9979784246775545, 0.9991462680904061, 0.9995376803750795, 0.999286692010791, 0.9979974501042449, 0.0355411980620524, 0.9637132551441132, 0.0006834845781163923, 0.999678118156635, 0.9991157302538791, 0.9940966794459848, 0.0044280475699153, 0.0014760158566384332, 0.0010982118165558223, 0.9938816939830192, 0.004392847266223289, 0.998979744554856, 0.11801528287485596, 0.8812982069410886, 0.0013787579647796292, 0.955479269592283, 0.0427414969081685, 0.40363094756336076, 0.0018914289951422714, 0.5946652760727301, 0.03214159159262476, 0.33505174266251264, 0.6330919556123059, 0.0013701226339144802, 0.9988194001236561, 0.0006850613169572401, 0.9988318333361447, 0.9971903505690228, 0.001228066934198304, 0.001228066934198304, 0.9995219247717866, 0.9994367636799446, 0.9943668182315559, 0.004680374411872963, 0.0008509771657950842, 0.9974564642567105, 0.0018091713378295838, 0.0006030571126098613, 0.003696343107944555, 0.8729530306595725, 0.12321143693148517, 0.0006087171341347784, 0.0012174342682695568, 0.9979917414139693, 0.9995104225366058, 0.001170892165521524, 0.99877101718986, 0.9993693249584775, 0.9987392454289808, 0.0010285677089896816, 0.9993836226839704, 0.6055293654935544, 0.32006960792975314, 0.07436827351361555, 0.012671892034754358, 0.9862955967050475, 0.0007039940019307976, 0.783236711205332, 0.17295447881505752, 0.0435474669873627, 0.9982096374224823, 0.0014604383868653727, 0.9985791774074473, 0.011247112462541687, 0.40349015959368306, 0.5851310258637313, 0.9995685745737983, 0.9984575854084408, 0.017816674143192632, 0.9818260072480797, 0.9997319781133396, 0.0020449213590011, 0.9968991625130363, 0.0005509072538794964, 0.9993457585374065, 0.10528553063949189, 0.3892793961802266, 0.5053012802730877, 0.9964752552771874, 0.002480851257951504, 0.9997275704829391, 0.9986756309343193, 0.0007452803215927756, 0.005515024680216857, 0.9938074473750776, 0.998825877859781, 0.999508541136248, 0.9993238811266266, 0.000606842175130324, 0.9994690624396437, 0.9994136242249346, 0.999266759912521, 0.9989390260961649, 0.9982511306794623, 0.0008646610053525009, 0.0008646610053525009, 0.9992178276129833, 0.9997392581331029, 0.9992816002275263, 0.0006880151169625127, 0.9989979498295686, 0.9992408656076662, 0.12032944190895442, 0.00038321478314953637, 0.879477927328186, 0.4537343039599397, 0.00945279799916541, 0.5368113335298406, 0.9988573867986504, 0.9738698764950382, 0.0008651494312955626, 0.0253777166513365, 0.022369780976351884, 0.3406171983332513, 0.6370913622065016, 0.9989477956453272, 0.9991160012808983, 0.9995945957784982, 0.0011035310062296516, 0.9986955606378347, 0.9900076552526608, 0.009744169835163984, 0.9993688525028757], \"Term\": [\"\\u0431\\u0435\\u0441\\u0438\\u0442\\u044c\", \"\\u0431\\u043b\\u0438\\u043d\", \"\\u0431\\u043b\\u0438\\u043d\", \"\\u0431\\u043b\\u044f\", \"\\u0431\\u043b\\u044f\", \"\\u0431\\u043b\\u044f\", \"\\u0431\\u043e\\u043b\\u0435\\u0442\\u044c\", \"\\u0431\\u043e\\u043b\\u0435\\u0442\\u044c\", \"\\u0431\\u043e\\u043b\\u0435\\u0442\\u044c\", \"\\u0431\\u043e\\u043b\\u044c\", \"\\u0431\\u043e\\u043b\\u044c\\u043d\\u0438\\u0446\\u0430\", \"\\u0431\\u043e\\u043b\\u044c\\u043d\\u0438\\u0446\\u0430\", \"\\u0431\\u043e\\u043b\\u044c\\u043d\\u043e\", \"\\u0431\\u043e\\u044f\\u0442\\u044c\\u0441\\u044f\", \"\\u0431\\u043e\\u044f\\u0442\\u044c\\u0441\\u044f\", \"\\u0431\\u044b\\u0441\\u0442\\u0440\\u043e\", \"\\u0432\\u0435\\u0447\\u0435\\u0440\", \"\\u0432\\u0435\\u0447\\u0435\\u0440\", \"\\u0432\\u0437\\u044f\\u0442\\u044c\", \"\\u0432\\u0437\\u044f\\u0442\\u044c\", \"\\u0432\\u043e\\u043e\\u0431\\u0449\\u0435\", \"\\u0432\\u043e\\u043e\\u0431\\u0449\\u0435\", \"\\u0432\\u043e\\u043e\\u0431\\u0449\\u0435\", \"\\u0432\\u0440\\u043e\\u0434\\u0435\", \"\\u0432\\u0440\\u043e\\u0434\\u0435\", \"\\u0432\\u0441\\u0442\\u0430\\u0432\\u0430\\u0442\\u044c\", \"\\u0432\\u0441\\u0442\\u0430\\u0432\\u0430\\u0442\\u044c\", \"\\u0432\\u044b\\u0445\\u043e\\u0434\\u0438\\u0442\\u044c\", \"\\u0432\\u044b\\u0445\\u043e\\u0434\\u043d\\u043e\\u0439\", \"\\u0433\\u043e\\u0432\\u043e\\u0440\\u0438\\u0442\\u044c\", \"\\u0433\\u043e\\u0432\\u043e\\u0440\\u0438\\u0442\\u044c\", \"\\u0433\\u043e\\u0432\\u043e\\u0440\\u0438\\u0442\\u044c\", \"\\u0433\\u043e\\u043b\\u043e\\u0432\\u0430\", \"\\u0433\\u043e\\u043b\\u043e\\u0432\\u0430\", \"\\u0433\\u043e\\u043b\\u043e\\u0432\\u0430\", \"\\u0433\\u043e\\u0440\\u043e\\u0434\", \"\\u0433\\u043e\\u0440\\u043e\\u0434\", \"\\u0433\\u043e\\u0440\\u043e\\u0434\", \"\\u0433\\u0440\\u0443\\u0441\\u0442\\u043d\\u043e\", \"\\u0433\\u0440\\u0443\\u0441\\u0442\\u043d\\u043e\", \"\\u0434\\u0430\\u0432\\u0430\\u0442\\u044c\", \"\\u0434\\u0430\\u0432\\u0430\\u0442\\u044c\", \"\\u0434\\u0430\\u0442\\u044c\", \"\\u0434\\u0430\\u0442\\u044c\", \"\\u0434\\u0430\\u0442\\u044c\", \"\\u0434\\u0435\\u043b\\u0430\\u0442\\u044c\", \"\\u0434\\u0435\\u043b\\u0430\\u0442\\u044c\", \"\\u0434\\u0435\\u043b\\u0430\\u0442\\u044c\", \"\\u0434\\u0435\\u043d\\u044c\", \"\\u0434\\u0435\\u043d\\u044c\", \"\\u0434\\u043e\\u0431\\u0440\\u044b\\u0439\", \"\\u0434\\u043e\\u043c\", \"\\u0434\\u043e\\u043c\", \"\\u0434\\u043e\\u043c\", \"\\u0434\\u043e\\u043c\\u043e\\u0439\", \"\\u0434\\u043e\\u043c\\u043e\\u0439\", \"\\u0434\\u0440\\u0443\\u0433\", \"\\u0434\\u0440\\u0443\\u0433\", \"\\u0434\\u0440\\u0443\\u0433\", \"\\u0434\\u0443\\u043c\\u0430\\u0442\\u044c\", \"\\u0434\\u0443\\u043c\\u0430\\u0442\\u044c\", \"\\u0434\\u0443\\u0448\\u0430\", \"\\u0434\\u0443\\u0448\\u0430\", \"\\u0436\\u0430\\u043b\\u043a\\u043e\", \"\\u0436\\u0430\\u043b\\u044c\", \"\\u0436\\u0430\\u043b\\u044c\", \"\\u0436\\u0430\\u043b\\u044c\", \"\\u0436\\u0434\\u0430\\u0442\\u044c\", \"\\u0436\\u0434\\u0430\\u0442\\u044c\", \"\\u0436\\u0434\\u0430\\u0442\\u044c\", \"\\u0436\\u0440\\u0430\\u0442\\u044c\", \"\\u0437\\u0430\\u0431\\u043e\\u043b\\u0435\\u0442\\u044c\", \"\\u0437\\u0430\\u0431\\u044b\\u0442\\u044c\", \"\\u0437\\u0430\\u0431\\u044b\\u0442\\u044c\", \"\\u0437\\u0430\\u0431\\u044b\\u0442\\u044c\", \"\\u0437\\u0430\\u0432\\u0442\\u0440\\u0430\", \"\\u0437\\u0430\\u0432\\u0442\\u0440\\u0430\", \"\\u0437\\u0430\\u0432\\u0442\\u0440\\u0430\", \"\\u0437\\u0430\\u0439\\u0442\\u0438\", \"\\u0437\\u0430\\u0439\\u0442\\u0438\", \"\\u0437\\u0430\\u043a\\u043e\\u043d\\u0447\\u0438\\u0442\\u044c\\u0441\\u044f\", \"\\u0437\\u043d\\u0430\\u0442\\u044c\", \"\\u0437\\u043d\\u0430\\u0442\\u044c\", \"\\u0437\\u043d\\u0430\\u0442\\u044c\", \"\\u0438\\u0434\\u0442\\u0438\", \"\\u0438\\u0434\\u0442\\u0438\", \"\\u0438\\u0434\\u0442\\u0438\", \"\\u043a\\u0430\\u043a\\u043e\\u0439\", \"\\u043a\\u0430\\u043a\\u043e\\u0439\", \"\\u043a\\u0430\\u043a\\u043e\\u0439\", \"\\u043a\\u0430\\u043d\\u0438\\u043a\\u0443\\u043b\\u044b\", \"\\u043a\\u0430\\u043f\\u0435\\u0446\", \"\\u043a\\u0430\\u0442\\u043e\\u043a\", \"\\u043a\\u043e\\u0442\", \"\\u043a\\u043e\\u0442\", \"\\u043b\\u0435\\u043d\\u0442\\u0430\", \"\\u043b\\u0435\\u0442\\u043e\", \"\\u043b\\u043e\\u0445\", \"\\u043b\\u044e\\u0431\\u0438\\u043c\\u044b\\u0439\", \"\\u043b\\u044e\\u0431\\u0438\\u043c\\u044b\\u0439\", \"\\u043b\\u044e\\u0431\\u0438\\u0442\\u044c\", \"\\u043b\\u044e\\u0431\\u0438\\u0442\\u044c\", \"\\u043b\\u044e\\u0431\\u0438\\u0442\\u044c\", \"\\u043b\\u044e\\u0431\\u043e\\u0432\\u044c\", \"\\u043c\\u0430\\u043c\\u0430\", \"\\u043c\\u0430\\u043c\\u0430\", \"\\u043c\\u0430\\u043c\\u0430\", \"\\u043c\\u0438\\u043d\\u0443\\u0442\\u0430\", \"\\u043c\\u0438\\u043d\\u0443\\u0442\\u0430\", \"\\u043c\\u043d\\u0435\\u043a\\u0430\\u0437\\u0430\\u0442\\u044c\\u0441\\u044f\", \"\\u043c\\u043d\\u0435\\u0442\\u0430\\u043a\", \"\\u043c\\u043e\\u0439\", \"\\u043c\\u043e\\u0439\", \"\\u043c\\u043e\\u0439\", \"\\u043c\\u043e\\u043c\\u0435\\u043d\\u0442\", \"\\u043c\\u0443\\u0437\\u044b\\u043a\\u0430\", \"\\u043c\\u0443\\u0437\\u044b\\u043a\\u0430\", \"\\u043d\\u0430\\u043f\\u0438\\u0441\\u0430\\u0442\\u044c\", \"\\u043d\\u0430\\u043f\\u0438\\u0441\\u0430\\u0442\\u044c\", \"\\u043d\\u0430\\u043f\\u0438\\u0441\\u0430\\u0442\\u044c\", \"\\u043d\\u0430\\u0441\\u0442\\u0440\\u043e\\u0435\\u043d\\u0438\\u0435\", \"\\u043d\\u0430\\u0441\\u0442\\u0440\\u043e\\u0435\\u043d\\u0438\\u0435\", \"\\u043d\\u0435\\u0431\\u044b\\u0442\\u044c\", \"\\u043d\\u0435\\u0431\\u044b\\u0442\\u044c\", \"\\u043d\\u0435\\u0431\\u044b\\u0442\\u044c\", \"\\u043d\\u0435\\u0432\\u0438\\u0434\\u0435\\u0442\\u044c\", \"\\u043d\\u0435\\u0434\\u0435\\u043b\\u044f\", \"\\u043d\\u0435\\u0434\\u0435\\u043b\\u044f\", \"\\u043d\\u0435\\u0434\\u0435\\u043b\\u044f\", \"\\u043d\\u0435\\u0437\\u043d\\u0430\\u0442\\u044c\", \"\\u043d\\u0435\\u043a\\u043e\\u0433\\u043e\", \"\\u043d\\u0435\\u043b\\u044c\\u0437\\u044f\", \"\\u043d\\u0435\\u043b\\u044e\\u0431\\u0438\\u0442\\u044c\", \"\\u043d\\u0435\\u043b\\u044e\\u0431\\u0438\\u0442\\u044c\", \"\\u043d\\u0435\\u043b\\u044e\\u0431\\u0438\\u0442\\u044c\", \"\\u043d\\u0435\\u043c\\u043e\\u0447\\u044c\", \"\\u043d\\u0435\\u043c\\u043e\\u0447\\u044c\", \"\\u043d\\u0435\\u043c\\u043e\\u0447\\u044c\", \"\\u043d\\u0435\\u043d\\u0430\\u0432\\u0438\\u0434\\u0435\\u0442\\u044c\", \"\\u043d\\u0435\\u043f\\u0438\\u0441\\u0430\\u0442\\u044c\", \"\\u043d\\u0435\\u043f\\u043e\\u043d\\u0438\\u043c\\u0430\\u0442\\u044c\", \"\\u043d\\u0435\\u043f\\u043e\\u043d\\u0438\\u043c\\u0430\\u0442\\u044c\", \"\\u043d\\u0435\\u043f\\u043e\\u043d\\u0438\\u043c\\u0430\\u0442\\u044c\", \"\\u043d\\u0435\\u0440\\u0430\\u0431\\u043e\\u0442\\u0430\\u0442\\u044c\", \"\\u043d\\u0435\\u0441\\u043c\\u043e\\u0447\\u044c\", \"\\u043d\\u0435\\u0442\\u0443\", \"\\u043d\\u0435\\u0445\\u0432\\u0430\\u0442\\u0430\\u0442\\u044c\", \"\\u043d\\u0435\\u0445\\u043e\\u0442\\u0435\\u0442\\u044c\", \"\\u043d\\u0435\\u0445\\u043e\\u0442\\u0435\\u0442\\u044c\\u0441\\u044f\", \"\\u043d\\u0435\\u0445\\u043e\\u0442\\u0435\\u0442\\u044c\\u0441\\u044f\", \"\\u043d\\u0438\\u043a\\u0430\\u043a\", \"\\u043d\\u0438\\u043a\\u0430\\u043a\", \"\\u043d\\u0438\\u043a\\u0442\\u043e\", \"\\u043d\\u0438\\u043a\\u0442\\u043e\", \"\\u043d\\u043e\\u0432\\u044b\\u0439\", \"\\u043d\\u043e\\u0432\\u044b\\u0439\", \"\\u043d\\u043e\\u0432\\u044b\\u0439\", \"\\u043d\\u043e\\u0433\\u0430\", \"\\u043d\\u043e\\u0440\\u043c\\u0430\", \"\\u043d\\u043e\\u0440\\u043c\\u0430\", \"\\u043d\\u043e\\u0447\\u044c\", \"\\u043d\\u043e\\u0447\\u044c\", \"\\u043e\\u0431\\u0438\\u0434\\u043d\\u043e\", \"\\u043e\\u0434\\u0438\\u043d\", \"\\u043e\\u0434\\u0438\\u043d\", \"\\u043e\\u0434\\u0438\\u043d\", \"\\u043f\\u0430\\u0440\\u0430\", \"\\u043f\\u0435\\u0440\\u0435\\u0441\\u0442\\u0430\\u0442\\u044c\", \"\\u043f\\u0435\\u0441\\u043d\\u044f\", \"\\u043f\\u0435\\u0447\\u0430\\u043b\\u044c\", \"\\u043f\\u0435\\u0447\\u0430\\u043b\\u044c\\u043d\\u043e\", \"\\u043f\\u0437\\u0434\\u0446\\u0430\", \"\\u043f\\u0438\\u0441\\u0430\\u0442\\u044c\", \"\\u043f\\u0438\\u0441\\u0430\\u0442\\u044c\", \"\\u043f\\u0438\\u0441\\u0430\\u0442\\u044c\", \"\\u043f\\u043b\\u043e\\u0445\\u043e\", \"\\u043f\\u043e\\u0433\\u043e\\u0434\\u0430\", \"\\u043f\\u043e\\u0439\\u0442\\u0438\", \"\\u043f\\u043e\\u0439\\u0442\\u0438\", \"\\u043f\\u043e\\u0439\\u0442\\u0438\", \"\\u043f\\u043e\\u043b\", \"\\u043f\\u043e\\u043b\", \"\\u043f\\u043e\\u043b\", \"\\u043f\\u043e\\u043d\\u0435\\u0434\\u0435\\u043b\\u044c\\u043d\\u0438\\u043a\", \"\\u043f\\u043e\\u043d\\u0438\\u043c\\u0430\\u0442\\u044c\", \"\\u043f\\u043e\\u043d\\u0438\\u043c\\u0430\\u0442\\u044c\", \"\\u043f\\u043e\\u043d\\u044f\\u0442\\u044c\", \"\\u043f\\u043e\\u043d\\u044f\\u0442\\u044c\", \"\\u043f\\u043e\\u043d\\u044f\\u0442\\u044c\", \"\\u043f\\u043e\\u0441\\u043b\\u0435\\u0434\\u043d\\u0438\\u0439\", \"\\u043f\\u043e\\u0441\\u043b\\u0435\\u0434\\u043d\\u0438\\u0439\", \"\\u043f\\u043e\\u0441\\u043b\\u0435\\u0434\\u043d\\u0438\\u0439\", \"\\u043f\\u043e\\u0441\\u043c\\u043e\\u0442\\u0440\\u0435\\u0442\\u044c\", \"\\u043f\\u043e\\u0441\\u043c\\u043e\\u0442\\u0440\\u0435\\u0442\\u044c\", \"\\u043f\\u043e\\u0441\\u043c\\u043e\\u0442\\u0440\\u0435\\u0442\\u044c\", \"\\u043f\\u0440\\u0430\\u0432\\u0434\\u0430\", \"\\u043f\\u0440\\u0430\\u0432\\u0434\\u0430\", \"\\u043f\\u0440\\u0430\\u0432\\u0434\\u0430\", \"\\u043f\\u0440\\u0430\\u0437\\u0434\\u043d\\u0438\\u043a\", \"\\u043f\\u0440\\u0438\\u0439\\u0442\\u0438\", \"\\u043f\\u0440\\u0438\\u0439\\u0442\\u0438\", \"\\u043f\\u0440\\u0438\\u0439\\u0442\\u0438\", \"\\u043f\\u0440\\u043e\\u0441\\u043d\\u0443\\u0442\\u044c\\u0441\\u044f\", \"\\u043f\\u0440\\u043e\\u0441\\u0442\\u0438\\u0442\\u044c\", \"\\u0440\\u0430\\u0431\\u043e\\u0442\\u0430\", \"\\u0440\\u0430\\u0431\\u043e\\u0442\\u0430\", \"\\u0440\\u0430\\u0431\\u043e\\u0442\\u0430\", \"\\u0440\\u0430\\u0432\\u043d\\u043e\", \"\\u0440\\u0430\\u0432\\u043d\\u043e\", \"\\u0440\\u0430\\u0432\\u043d\\u043e\", \"\\u0440\\u0443\\u043a\\u0430\", \"\\u0440\\u0443\\u043a\\u0430\", \"\\u0440\\u0443\\u043a\\u0430\", \"\\u0441\\u0430\\u043c\\u044b\\u0439\", \"\\u0441\\u0430\\u043c\\u044b\\u0439\", \"\\u0441\\u0430\\u043c\\u044b\\u0439\", \"\\u0441\\u0434\\u0430\\u0442\\u044c\", \"\\u0441\\u0435\\u0440\\u0434\\u0446\\u0435\", \"\\u0441\\u0435\\u0440\\u0434\\u0446\\u0435\", \"\\u0441\\u0435\\u0440\\u0438\\u0430\\u043b\", \"\\u0441\\u0435\\u0440\\u0438\\u044f\", \"\\u0441\\u0435\\u0440\\u0438\\u044f\", \"\\u0441\\u0435\\u0441\\u0441\\u0438\\u044f\", \"\\u0441\\u0438\\u0434\\u0435\\u0442\\u044c\", \"\\u0441\\u0438\\u0434\\u0435\\u0442\\u044c\", \"\\u0441\\u0438\\u0434\\u0435\\u0442\\u044c\", \"\\u0441\\u0438\\u043b\\u044c\\u043d\\u043e\", \"\\u0441\\u0438\\u043b\\u044c\\u043d\\u043e\", \"\\u0441\\u0438\\u043b\\u044c\\u043d\\u043e\", \"\\u0441\\u043a\\u0443\\u0447\\u0430\\u0442\\u044c\", \"\\u0441\\u043a\\u0443\\u0447\\u0430\\u0442\\u044c\", \"\\u0441\\u043a\\u0443\\u0447\\u0430\\u0442\\u044c\", \"\\u0441\\u043a\\u0443\\u0447\\u043d\\u043e\", \"\\u0441\\u043a\\u0443\\u0447\\u043d\\u043e\", \"\\u0441\\u043b\\u0443\\u0448\\u0430\\u0442\\u044c\", \"\\u0441\\u043c\\u043e\\u0442\\u0440\\u0435\\u0442\\u044c\", \"\\u0441\\u043c\\u043e\\u0442\\u0440\\u0435\\u0442\\u044c\", \"\\u0441\\u043c\\u043e\\u0442\\u0440\\u0435\\u0442\\u044c\", \"\\u0441\\u043d\\u0435\\u0433\", \"\\u0441\\u043e\\u0436\\u0430\\u043b\\u0435\\u043d\\u0438\\u0435\", \"\\u0441\\u043e\\u043d\", \"\\u0441\\u043e\\u043d\", \"\\u0441\\u043f\\u0430\\u0442\\u044c\", \"\\u0441\\u0442\\u0430\\u0440\\u044b\\u0439\", \"\\u0441\\u0442\\u0430\\u0440\\u044b\\u0439\", \"\\u0441\\u0442\\u0430\\u0442\\u044c\", \"\\u0441\\u0442\\u0430\\u0442\\u044c\", \"\\u0442\\u0430\\u043a\\u043e\\u0439\", \"\\u0442\\u0430\\u043a\\u043e\\u0439\", \"\\u0442\\u0430\\u043a\\u043e\\u0439\", \"\\u0442\\u0432\\u0438\\u0442\", \"\\u0442\\u0432\\u0438\\u0442\", \"\\u0442\\u0432\\u0438\\u0442\\u0442\\u0435\\u0440\", \"\\u0442\\u0432\\u043e\\u0439\", \"\\u0442\\u0432\\u043e\\u0439\", \"\\u0442\\u0435\\u043c\\u043f\\u0435\\u0440\\u0430\\u0442\\u0443\\u0440\\u0430\", \"\\u0442\\u0435\\u043c\\u043f\\u0435\\u0440\\u0430\\u0442\\u0443\\u0440\\u0430\", \"\\u0442\\u0443\\u043f\\u043e\\u0439\", \"\\u0443\\u0435\\u0437\\u0436\\u0430\\u0442\\u044c\", \"\\u0443\\u0435\\u0445\\u0430\\u0442\\u044c\", \"\\u0443\\u0436\\u0430\\u0441\\u043d\\u043e\", \"\\u0443\\u0436\\u0430\\u0441\\u043d\\u043e\", \"\\u0443\\u0436\\u0430\\u0441\\u043d\\u044b\\u0439\", \"\\u0443\\u043b\\u0438\\u0446\\u0430\", \"\\u0443\\u043c\\u0435\\u0440\\u0435\\u0442\\u044c\", \"\\u0443\\u0440\\u043e\\u043a\", \"\\u0443\\u0440\\u043e\\u043a\", \"\\u0443\\u0440\\u043e\\u043a\", \"\\u0443\\u0441\\u0442\\u0430\\u0442\\u044c\", \"\\u0443\\u0442\\u0440\\u043e\", \"\\u0444\\u0438\\u043b\\u044c\\u043c\", \"\\u0444\\u043e\\u0442\\u043a\\u0430\", \"\\u0444\\u043e\\u0442\\u043a\\u0430\", \"\\u0445\\u043e\\u043b\\u043e\\u0434\\u043d\\u043e\", \"\\u0445\\u043e\\u0440\\u043e\\u0448\\u0438\\u0439\", \"\\u0445\\u043e\\u0440\\u043e\\u0448\\u0438\\u0439\", \"\\u0445\\u043e\\u0440\\u043e\\u0448\\u0438\\u0439\", \"\\u0445\\u043e\\u0442\\u0435\\u0442\\u044c\", \"\\u0445\\u043e\\u0442\\u0435\\u0442\\u044c\", \"\\u0445\\u043e\\u0442\\u0435\\u0442\\u044c\", \"\\u0446\\u0435\\u043b\\u044b\\u0439\", \"\\u0447\\u0430\\u0441\", \"\\u0447\\u0430\\u0441\", \"\\u0447\\u0430\\u0441\", \"\\u0447\\u0435\\u043b\\u043e\\u0432\\u0435\\u043a\", \"\\u0447\\u0435\\u043b\\u043e\\u0432\\u0435\\u043a\", \"\\u0447\\u0435\\u043b\\u043e\\u0432\\u0435\\u043a\", \"\\u0447\\u0435\\u0440\\u0442\\u0430\", \"\\u0447\\u0438\\u0442\\u0430\\u0442\\u044c\", \"\\u0447\\u0443\\u0432\\u0441\\u0442\\u0432\\u043e\", \"\\u0448\\u0435\\u0440\\u043b\\u043e\\u043a\", \"\\u0448\\u0435\\u0440\\u043b\\u043e\\u043a\", \"\\u0448\\u043a\\u043e\\u043b\\u0430\", \"\\u0448\\u043a\\u043e\\u043b\\u0430\", \"\\u044d\\u043a\\u0437\\u0430\\u043c\\u0435\\u043d\"]}, \"R\": 30, \"lambda.step\": 0.01, \"plot.opts\": {\"xlab\": \"PC1\", \"ylab\": \"PC2\"}, \"topic.order\": [1, 2, 3]};\n",
       "\n",
       "function LDAvis_load_lib(url, callback){\n",
       "  var s = document.createElement('script');\n",
       "  s.src = url;\n",
       "  s.async = true;\n",
       "  s.onreadystatechange = s.onload = callback;\n",
       "  s.onerror = function(){console.warn(\"failed to load library \" + url);};\n",
       "  document.getElementsByTagName(\"head\")[0].appendChild(s);\n",
       "}\n",
       "\n",
       "if(typeof(LDAvis) !== \"undefined\"){\n",
       "   // already loaded: just create the visualization\n",
       "   !function(LDAvis){\n",
       "       new LDAvis(\"#\" + \"ldavis_el1012023326877237609925515990\", ldavis_el1012023326877237609925515990_data);\n",
       "   }(LDAvis);\n",
       "}else if(typeof define === \"function\" && define.amd){\n",
       "   // require.js is available: use it to load d3/LDAvis\n",
       "   require.config({paths: {d3: \"https://d3js.org/d3.v5\"}});\n",
       "   require([\"d3\"], function(d3){\n",
       "      window.d3 = d3;\n",
       "      LDAvis_load_lib(\"https://cdn.jsdelivr.net/gh/bmabey/pyLDAvis@3.4.0/pyLDAvis/js/ldavis.v3.0.0.js\", function(){\n",
       "        new LDAvis(\"#\" + \"ldavis_el1012023326877237609925515990\", ldavis_el1012023326877237609925515990_data);\n",
       "      });\n",
       "    });\n",
       "}else{\n",
       "    // require.js not available: dynamically load d3 & LDAvis\n",
       "    LDAvis_load_lib(\"https://d3js.org/d3.v5.js\", function(){\n",
       "         LDAvis_load_lib(\"https://cdn.jsdelivr.net/gh/bmabey/pyLDAvis@3.4.0/pyLDAvis/js/ldavis.v3.0.0.js\", function(){\n",
       "                 new LDAvis(\"#\" + \"ldavis_el1012023326877237609925515990\", ldavis_el1012023326877237609925515990_data);\n",
       "            })\n",
       "         });\n",
       "}\n",
       "</script>"
      ],
      "text/plain": [
       "PreparedData(topic_coordinates=              x         y  topics  cluster       Freq\n",
       "topic                                                \n",
       "0     -0.265975  0.181718       1        1  34.560408\n",
       "1     -0.025912 -0.318986       2        1  33.317037\n",
       "2      0.291887  0.137268       3        1  32.122555, topic_info=           Term          Freq         Total Category  logprob  loglift\n",
       "168      завтра   6965.000000   6965.000000  Default  30.0000  30.0000\n",
       "86       немочь   6244.000000   6244.000000  Default  29.0000  29.0000\n",
       "98       хотеть  13012.000000  13012.000000  Default  28.0000  28.0000\n",
       "569       спать   4490.000000   4490.000000  Default  27.0000  27.0000\n",
       "171       школа   4618.000000   4618.000000  Default  26.0000  26.0000\n",
       "..          ...           ...           ...      ...      ...      ...\n",
       "662   последний   1571.542215   2643.503940   Topic3  -5.4087   0.6156\n",
       "24   посмотреть   1299.947139   2053.414182   Topic3  -5.5984   0.6784\n",
       "470       такой   1459.315489   2887.386312   Topic3  -5.4827   0.4532\n",
       "404        день   1478.522641   3463.575044   Topic3  -5.4697   0.2844\n",
       "56         один   1375.166978   3345.454387   Topic3  -5.5421   0.2466\n",
       "\n",
       "[194 rows x 6 columns], token_table=      Topic      Freq     Term\n",
       "term                          \n",
       "1935      3  0.999426   бесить\n",
       "21        1  0.577490     блин\n",
       "21        2  0.422492     блин\n",
       "27        1  0.326758      бля\n",
       "27        2  0.665129      бля\n",
       "...     ...       ...      ...\n",
       "2997      2  0.001104   шерлок\n",
       "2997      3  0.998696   шерлок\n",
       "171       1  0.990008    школа\n",
       "171       3  0.009744    школа\n",
       "548       3  0.999369  экзамен\n",
       "\n",
       "[295 rows x 3 columns], R=30, lambda_step=0.01, plot_opts={'xlab': 'PC1', 'ylab': 'PC2'}, topic_order=[1, 2, 3])"
      ]
     },
     "execution_count": 96,
     "metadata": {},
     "output_type": "execute_result"
    }
   ],
   "source": [
    "pyLDAvis.enable_notebook()\n",
    "vis = pyLDAvis.gensim.prepare(lda, corpus, dictionary=dictionary)\n",
    "vis"
   ]
  },
  {
   "cell_type": "code",
   "execution_count": null,
   "id": "1yqRH1ooHxlt",
   "metadata": {
    "colab": {
     "base_uri": "https://localhost:8080/"
    },
    "executionInfo": {
     "elapsed": 509,
     "status": "ok",
     "timestamp": 1674328608427,
     "user": {
      "displayName": "Maxim Gasilin",
      "userId": "15501735730920561422"
     },
     "user_tz": -180
    },
    "id": "1yqRH1ooHxlt",
    "outputId": "51409eef-6ba1-42fc-ad49-e548d6584228"
   },
   "outputs": [],
   "source": [
    "pyLDAvis.display(vis)"
   ]
  },
  {
   "cell_type": "code",
   "execution_count": null,
   "id": "1228ffd7",
   "metadata": {},
   "outputs": [],
   "source": [
    "Темы:\n",
    "    1. Рабочие будни;\n",
    "    2. Действия;\n",
    "    3. Отношения."
   ]
  }
 ],
 "metadata": {
  "colab": {
   "provenance": []
  },
  "kernelspec": {
   "display_name": "Python 3 (ipykernel)",
   "language": "python",
   "name": "python3"
  },
  "language_info": {
   "codemirror_mode": {
    "name": "ipython",
    "version": 3
   },
   "file_extension": ".py",
   "mimetype": "text/x-python",
   "name": "python",
   "nbconvert_exporter": "python",
   "pygments_lexer": "ipython3",
   "version": "3.9.13"
  }
 },
 "nbformat": 4,
 "nbformat_minor": 5
}
